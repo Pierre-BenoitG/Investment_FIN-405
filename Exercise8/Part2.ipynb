{
 "cells": [
  {
   "cell_type": "code",
   "execution_count": 1,
   "id": "7ef3c80d",
   "metadata": {},
   "outputs": [],
   "source": [
    "#pip install wrds"
   ]
  },
  {
   "cell_type": "code",
   "execution_count": 2,
   "id": "6e0b0bda",
   "metadata": {},
   "outputs": [],
   "source": [
    "import numpy as np\n",
    "import matplotlib.pyplot as plt\n",
    "import numpy as np\n",
    "import pandas as pd\n",
    "import wrds\n",
    "import psycopg2\n",
    "import statsmodels.api as sm\n",
    "from tqdm.notebook import tqdm"
   ]
  },
  {
   "cell_type": "code",
   "execution_count": 3,
   "id": "4726cc9c",
   "metadata": {},
   "outputs": [
    {
     "name": "stdout",
     "output_type": "stream",
     "text": [
      "Loading library list...\n",
      "Done\n"
     ]
    }
   ],
   "source": [
    "db = wrds.Connection(wrds_username=\"thomas_bienaime\")\n",
    "#db.create_pgpass_file()"
   ]
  },
  {
   "cell_type": "markdown",
   "id": "56b86931",
   "metadata": {},
   "source": [
    "# Question a)"
   ]
  },
  {
   "cell_type": "code",
   "execution_count": 4,
   "id": "29e4868b",
   "metadata": {},
   "outputs": [],
   "source": [
    "# we download the stocks returns \n",
    "stocks_returns_raw = db.raw_sql(\"\"\"\n",
    "                      select  a.permno, a.date,\n",
    "                      a.ret, a.prc , a.shrout ,  a.hsiccd\n",
    "                      from crsp.msf as a\n",
    "                      left join crsp.msenames as b\n",
    "                      on a.permno=b.permno\n",
    "                      and b.namedt<=a.date\n",
    "                      and a.date<=b.nameendt\n",
    "                      where a.date between '01/01/1990' and '12/31/2021'\n",
    "                      and b.exchcd between 1 and 2\n",
    "                      and b.shrcd between 10 and 11\n",
    "                      \"\"\", date_cols=['date']) \n",
    "\n",
    "#we download the risk free rate\n",
    "risk_free=db.raw_sql(\"select  mcaldt,tmytm \"\n",
    "           \"from crsp.tfz_mth_rf \"           \n",
    "            \"where kytreasnox = 2000001 \"\n",
    "           \"and mcaldt>='1990-01-01'\"\n",
    "            \"and mcaldt<='2021-12-31'\", date_cols=['mcaldt'])\n",
    "risk_free = risk_free.rename(\n",
    "    columns ={\"mcaldt\" : \"date\", \"tmytm\" :\"risk_free\" })\n",
    "risk_free = risk_free.set_index(\"date\")\n",
    "# downlad index returns\n",
    "market_index=db.raw_sql(\"select  date,vwretd \"\n",
    "           \"from crsp.msi \"\n",
    "           \"where date>='1990-01-01'\"\n",
    "            \"and date<='2021-12-31'\", date_cols=['date'])\n",
    "market_index = market_index.set_index(\"date\")\n",
    "#we tranform the returns of the risk free rate\n",
    "risk_free['risk_free']=np.exp(risk_free['risk_free']/(12*100))-1"
   ]
  },
  {
   "cell_type": "code",
   "execution_count": 5,
   "id": "cd380612",
   "metadata": {},
   "outputs": [],
   "source": [
    "stocks_returns_raw[\"date\"] = stocks_returns_raw[\"date\"].dt.to_period('M')\n",
    "risk_free = risk_free.to_period('M')\n",
    "market_index = market_index.to_period('M')"
   ]
  },
  {
   "cell_type": "code",
   "execution_count": 6,
   "id": "75206bc8",
   "metadata": {},
   "outputs": [
    {
     "data": {
      "text/html": [
       "<div>\n",
       "<style scoped>\n",
       "    .dataframe tbody tr th:only-of-type {\n",
       "        vertical-align: middle;\n",
       "    }\n",
       "\n",
       "    .dataframe tbody tr th {\n",
       "        vertical-align: top;\n",
       "    }\n",
       "\n",
       "    .dataframe thead th {\n",
       "        text-align: right;\n",
       "    }\n",
       "</style>\n",
       "<table border=\"1\" class=\"dataframe\">\n",
       "  <thead>\n",
       "    <tr style=\"text-align: right;\">\n",
       "      <th></th>\n",
       "      <th>permno</th>\n",
       "      <th>date</th>\n",
       "      <th>ret</th>\n",
       "      <th>prc</th>\n",
       "      <th>shrout</th>\n",
       "      <th>hsiccd</th>\n",
       "    </tr>\n",
       "  </thead>\n",
       "  <tbody>\n",
       "    <tr>\n",
       "      <th>6854</th>\n",
       "      <td>10516.0</td>\n",
       "      <td>1990-01</td>\n",
       "      <td>-0.134054</td>\n",
       "      <td>20.000000</td>\n",
       "      <td>281065.0</td>\n",
       "      <td>2046.0</td>\n",
       "    </tr>\n",
       "    <tr>\n",
       "      <th>6855</th>\n",
       "      <td>10516.0</td>\n",
       "      <td>1990-02</td>\n",
       "      <td>0.050000</td>\n",
       "      <td>21.000000</td>\n",
       "      <td>281065.0</td>\n",
       "      <td>2046.0</td>\n",
       "    </tr>\n",
       "    <tr>\n",
       "      <th>6856</th>\n",
       "      <td>10516.0</td>\n",
       "      <td>1990-03</td>\n",
       "      <td>0.083333</td>\n",
       "      <td>22.750000</td>\n",
       "      <td>283801.0</td>\n",
       "      <td>2046.0</td>\n",
       "    </tr>\n",
       "    <tr>\n",
       "      <th>6857</th>\n",
       "      <td>10516.0</td>\n",
       "      <td>1990-04</td>\n",
       "      <td>0.034066</td>\n",
       "      <td>23.500000</td>\n",
       "      <td>283801.0</td>\n",
       "      <td>2046.0</td>\n",
       "    </tr>\n",
       "    <tr>\n",
       "      <th>6858</th>\n",
       "      <td>10516.0</td>\n",
       "      <td>1990-05</td>\n",
       "      <td>0.127660</td>\n",
       "      <td>26.500000</td>\n",
       "      <td>283801.0</td>\n",
       "      <td>2046.0</td>\n",
       "    </tr>\n",
       "    <tr>\n",
       "      <th>...</th>\n",
       "      <td>...</td>\n",
       "      <td>...</td>\n",
       "      <td>...</td>\n",
       "      <td>...</td>\n",
       "      <td>...</td>\n",
       "      <td>...</td>\n",
       "    </tr>\n",
       "    <tr>\n",
       "      <th>102726</th>\n",
       "      <td>85914.0</td>\n",
       "      <td>2021-08</td>\n",
       "      <td>0.037027</td>\n",
       "      <td>116.510002</td>\n",
       "      <td>245964.0</td>\n",
       "      <td>5731.0</td>\n",
       "    </tr>\n",
       "    <tr>\n",
       "      <th>102727</th>\n",
       "      <td>85914.0</td>\n",
       "      <td>2021-09</td>\n",
       "      <td>-0.086688</td>\n",
       "      <td>105.709999</td>\n",
       "      <td>245964.0</td>\n",
       "      <td>5731.0</td>\n",
       "    </tr>\n",
       "    <tr>\n",
       "      <th>102728</th>\n",
       "      <td>85914.0</td>\n",
       "      <td>2021-10</td>\n",
       "      <td>0.156371</td>\n",
       "      <td>122.239998</td>\n",
       "      <td>245964.0</td>\n",
       "      <td>5731.0</td>\n",
       "    </tr>\n",
       "    <tr>\n",
       "      <th>102729</th>\n",
       "      <td>85914.0</td>\n",
       "      <td>2021-11</td>\n",
       "      <td>-0.125818</td>\n",
       "      <td>106.860001</td>\n",
       "      <td>245964.0</td>\n",
       "      <td>5731.0</td>\n",
       "    </tr>\n",
       "    <tr>\n",
       "      <th>102730</th>\n",
       "      <td>85914.0</td>\n",
       "      <td>2021-12</td>\n",
       "      <td>-0.042673</td>\n",
       "      <td>101.599998</td>\n",
       "      <td>240561.0</td>\n",
       "      <td>5731.0</td>\n",
       "    </tr>\n",
       "  </tbody>\n",
       "</table>\n",
       "<p>125952 rows × 6 columns</p>\n",
       "</div>"
      ],
      "text/plain": [
       "         permno     date       ret         prc    shrout  hsiccd\n",
       "6854    10516.0  1990-01 -0.134054   20.000000  281065.0  2046.0\n",
       "6855    10516.0  1990-02  0.050000   21.000000  281065.0  2046.0\n",
       "6856    10516.0  1990-03  0.083333   22.750000  283801.0  2046.0\n",
       "6857    10516.0  1990-04  0.034066   23.500000  283801.0  2046.0\n",
       "6858    10516.0  1990-05  0.127660   26.500000  283801.0  2046.0\n",
       "...         ...      ...       ...         ...       ...     ...\n",
       "102726  85914.0  2021-08  0.037027  116.510002  245964.0  5731.0\n",
       "102727  85914.0  2021-09 -0.086688  105.709999  245964.0  5731.0\n",
       "102728  85914.0  2021-10  0.156371  122.239998  245964.0  5731.0\n",
       "102729  85914.0  2021-11 -0.125818  106.860001  245964.0  5731.0\n",
       "102730  85914.0  2021-12 -0.042673  101.599998  240561.0  5731.0\n",
       "\n",
       "[125952 rows x 6 columns]"
      ]
     },
     "metadata": {},
     "output_type": "display_data"
    }
   ],
   "source": [
    "number_observations=stocks_returns_raw.groupby(by=[\"permno\"]).count()\n",
    "stocks_returns_pemno_384= number_observations[number_observations[\"ret\"]>=384].index.sort_values()\n",
    "stocks_returns_raw_clean = stocks_returns_raw.loc[stocks_returns_raw[\"permno\"].isin(stocks_returns_pemno_384) ]\n",
    "display(stocks_returns_raw_clean)"
   ]
  },
  {
   "cell_type": "markdown",
   "id": "fb789c0d",
   "metadata": {},
   "source": [
    "# Question b)"
   ]
  },
  {
   "cell_type": "code",
   "execution_count": 7,
   "id": "3180cd9c",
   "metadata": {},
   "outputs": [
    {
     "name": "stderr",
     "output_type": "stream",
     "text": [
      "/home/thomas/miniconda3/lib/python3.7/site-packages/ipykernel_launcher.py:1: SettingWithCopyWarning: \n",
      "A value is trying to be set on a copy of a slice from a DataFrame.\n",
      "Try using .loc[row_indexer,col_indexer] = value instead\n",
      "\n",
      "See the caveats in the documentation: https://pandas.pydata.org/pandas-docs/stable/user_guide/indexing.html#returning-a-view-versus-a-copy\n",
      "  \"\"\"Entry point for launching an IPython kernel.\n"
     ]
    },
    {
     "data": {
      "text/html": [
       "<div>\n",
       "<style scoped>\n",
       "    .dataframe tbody tr th:only-of-type {\n",
       "        vertical-align: middle;\n",
       "    }\n",
       "\n",
       "    .dataframe tbody tr th {\n",
       "        vertical-align: top;\n",
       "    }\n",
       "\n",
       "    .dataframe thead th {\n",
       "        text-align: right;\n",
       "    }\n",
       "</style>\n",
       "<table border=\"1\" class=\"dataframe\">\n",
       "  <thead>\n",
       "    <tr style=\"text-align: right;\">\n",
       "      <th></th>\n",
       "      <th>date</th>\n",
       "      <th>ret</th>\n",
       "      <th>prc</th>\n",
       "      <th>shrout</th>\n",
       "      <th>hsiccd</th>\n",
       "      <th>Market Cap</th>\n",
       "    </tr>\n",
       "    <tr>\n",
       "      <th>permno</th>\n",
       "      <th></th>\n",
       "      <th></th>\n",
       "      <th></th>\n",
       "      <th></th>\n",
       "      <th></th>\n",
       "      <th></th>\n",
       "    </tr>\n",
       "  </thead>\n",
       "  <tbody>\n",
       "    <tr>\n",
       "      <th>13769.0</th>\n",
       "      <td>2021-12</td>\n",
       "      <td>-0.088391</td>\n",
       "      <td>2.370000</td>\n",
       "      <td>5868.0</td>\n",
       "      <td>7352.0</td>\n",
       "      <td>1.390716e+04</td>\n",
       "    </tr>\n",
       "    <tr>\n",
       "      <th>30509.0</th>\n",
       "      <td>2021-12</td>\n",
       "      <td>0.030132</td>\n",
       "      <td>26.275000</td>\n",
       "      <td>966.0</td>\n",
       "      <td>3452.0</td>\n",
       "      <td>2.538165e+04</td>\n",
       "    </tr>\n",
       "    <tr>\n",
       "      <th>42358.0</th>\n",
       "      <td>2021-12</td>\n",
       "      <td>0.159363</td>\n",
       "      <td>2.910000</td>\n",
       "      <td>9446.0</td>\n",
       "      <td>1311.0</td>\n",
       "      <td>2.748786e+04</td>\n",
       "    </tr>\n",
       "    <tr>\n",
       "      <th>50243.0</th>\n",
       "      <td>2021-12</td>\n",
       "      <td>-0.005100</td>\n",
       "      <td>12.680000</td>\n",
       "      <td>2492.0</td>\n",
       "      <td>3728.0</td>\n",
       "      <td>3.159856e+04</td>\n",
       "    </tr>\n",
       "    <tr>\n",
       "      <th>31691.0</th>\n",
       "      <td>2021-12</td>\n",
       "      <td>-0.034654</td>\n",
       "      <td>14.209900</td>\n",
       "      <td>2703.0</td>\n",
       "      <td>3679.0</td>\n",
       "      <td>3.840936e+04</td>\n",
       "    </tr>\n",
       "    <tr>\n",
       "      <th>...</th>\n",
       "      <td>...</td>\n",
       "      <td>...</td>\n",
       "      <td>...</td>\n",
       "      <td>...</td>\n",
       "      <td>...</td>\n",
       "      <td>...</td>\n",
       "    </tr>\n",
       "    <tr>\n",
       "      <th>18163.0</th>\n",
       "      <td>2021-12</td>\n",
       "      <td>0.131415</td>\n",
       "      <td>163.580002</td>\n",
       "      <td>2419948.0</td>\n",
       "      <td>2844.0</td>\n",
       "      <td>3.958551e+08</td>\n",
       "    </tr>\n",
       "    <tr>\n",
       "      <th>55976.0</th>\n",
       "      <td>2021-12</td>\n",
       "      <td>0.032781</td>\n",
       "      <td>144.690002</td>\n",
       "      <td>2773878.0</td>\n",
       "      <td>5311.0</td>\n",
       "      <td>4.013524e+08</td>\n",
       "    </tr>\n",
       "    <tr>\n",
       "      <th>66181.0</th>\n",
       "      <td>2021-12</td>\n",
       "      <td>0.040064</td>\n",
       "      <td>415.010010</td>\n",
       "      <td>1044239.0</td>\n",
       "      <td>5211.0</td>\n",
       "      <td>4.333696e+08</td>\n",
       "    </tr>\n",
       "    <tr>\n",
       "      <th>22111.0</th>\n",
       "      <td>2021-12</td>\n",
       "      <td>0.097095</td>\n",
       "      <td>171.070007</td>\n",
       "      <td>2632597.0</td>\n",
       "      <td>3841.0</td>\n",
       "      <td>4.503584e+08</td>\n",
       "    </tr>\n",
       "    <tr>\n",
       "      <th>47896.0</th>\n",
       "      <td>2021-12</td>\n",
       "      <td>-0.003022</td>\n",
       "      <td>158.350006</td>\n",
       "      <td>2955266.0</td>\n",
       "      <td>6021.0</td>\n",
       "      <td>4.679664e+08</td>\n",
       "    </tr>\n",
       "  </tbody>\n",
       "</table>\n",
       "<p>328 rows × 6 columns</p>\n",
       "</div>"
      ],
      "text/plain": [
       "            date       ret         prc     shrout  hsiccd    Market Cap\n",
       "permno                                                                 \n",
       "13769.0  2021-12 -0.088391    2.370000     5868.0  7352.0  1.390716e+04\n",
       "30509.0  2021-12  0.030132   26.275000      966.0  3452.0  2.538165e+04\n",
       "42358.0  2021-12  0.159363    2.910000     9446.0  1311.0  2.748786e+04\n",
       "50243.0  2021-12 -0.005100   12.680000     2492.0  3728.0  3.159856e+04\n",
       "31691.0  2021-12 -0.034654   14.209900     2703.0  3679.0  3.840936e+04\n",
       "...          ...       ...         ...        ...     ...           ...\n",
       "18163.0  2021-12  0.131415  163.580002  2419948.0  2844.0  3.958551e+08\n",
       "55976.0  2021-12  0.032781  144.690002  2773878.0  5311.0  4.013524e+08\n",
       "66181.0  2021-12  0.040064  415.010010  1044239.0  5211.0  4.333696e+08\n",
       "22111.0  2021-12  0.097095  171.070007  2632597.0  3841.0  4.503584e+08\n",
       "47896.0  2021-12 -0.003022  158.350006  2955266.0  6021.0  4.679664e+08\n",
       "\n",
       "[328 rows x 6 columns]"
      ]
     },
     "metadata": {},
     "output_type": "display_data"
    }
   ],
   "source": [
    "stocks_returns_raw_clean[\"Market Cap\"] = np.abs(stocks_returns_raw_clean[\"prc\"] * stocks_returns_raw_clean[\"shrout\"])\n",
    "stocks_returns_dec_2021 =stocks_returns_raw_clean[stocks_returns_raw_clean[\"date\"]==\"2021-12-31\"]\n",
    "stocks_returns_dec_2021 = stocks_returns_dec_2021.sort_values('Market Cap' , ascending = True).set_index(\"permno\")\n",
    "display(stocks_returns_dec_2021)\n",
    "stocks_returns_pemno = list(stocks_returns_dec_2021.index)"
   ]
  },
  {
   "cell_type": "code",
   "execution_count": 8,
   "id": "b0788ec1",
   "metadata": {},
   "outputs": [
    {
     "data": {
      "application/vnd.jupyter.widget-view+json": {
       "model_id": "af4a46c239204a45abf8953c4a784dda",
       "version_major": 2,
       "version_minor": 0
      },
      "text/plain": [
       "  0%|          | 0/328 [00:00<?, ?it/s]"
      ]
     },
     "metadata": {},
     "output_type": "display_data"
    },
    {
     "data": {
      "text/html": [
       "<div>\n",
       "<style scoped>\n",
       "    .dataframe tbody tr th:only-of-type {\n",
       "        vertical-align: middle;\n",
       "    }\n",
       "\n",
       "    .dataframe tbody tr th {\n",
       "        vertical-align: top;\n",
       "    }\n",
       "\n",
       "    .dataframe thead th {\n",
       "        text-align: right;\n",
       "    }\n",
       "</style>\n",
       "<table border=\"1\" class=\"dataframe\">\n",
       "  <thead>\n",
       "    <tr style=\"text-align: right;\">\n",
       "      <th></th>\n",
       "      <th>risk_free</th>\n",
       "      <th>vwretd</th>\n",
       "      <th>13769.0</th>\n",
       "      <th>30509.0</th>\n",
       "      <th>42358.0</th>\n",
       "      <th>50243.0</th>\n",
       "      <th>31691.0</th>\n",
       "      <th>49138.0</th>\n",
       "      <th>29058.0</th>\n",
       "      <th>54244.0</th>\n",
       "      <th>...</th>\n",
       "      <th>50876.0</th>\n",
       "      <th>17778.0</th>\n",
       "      <th>26403.0</th>\n",
       "      <th>21936.0</th>\n",
       "      <th>59408.0</th>\n",
       "      <th>18163.0</th>\n",
       "      <th>55976.0</th>\n",
       "      <th>66181.0</th>\n",
       "      <th>22111.0</th>\n",
       "      <th>47896.0</th>\n",
       "    </tr>\n",
       "    <tr>\n",
       "      <th>date</th>\n",
       "      <th></th>\n",
       "      <th></th>\n",
       "      <th></th>\n",
       "      <th></th>\n",
       "      <th></th>\n",
       "      <th></th>\n",
       "      <th></th>\n",
       "      <th></th>\n",
       "      <th></th>\n",
       "      <th></th>\n",
       "      <th></th>\n",
       "      <th></th>\n",
       "      <th></th>\n",
       "      <th></th>\n",
       "      <th></th>\n",
       "      <th></th>\n",
       "      <th></th>\n",
       "      <th></th>\n",
       "      <th></th>\n",
       "      <th></th>\n",
       "      <th></th>\n",
       "    </tr>\n",
       "  </thead>\n",
       "  <tbody>\n",
       "    <tr>\n",
       "      <th>1990-01</th>\n",
       "      <td>0.006390</td>\n",
       "      <td>-0.070114</td>\n",
       "      <td>-0.185185</td>\n",
       "      <td>-0.028902</td>\n",
       "      <td>-0.037545</td>\n",
       "      <td>-0.150000</td>\n",
       "      <td>-0.054422</td>\n",
       "      <td>-0.144144</td>\n",
       "      <td>0.041667</td>\n",
       "      <td>-0.111111</td>\n",
       "      <td>...</td>\n",
       "      <td>-0.078467</td>\n",
       "      <td>-0.140634</td>\n",
       "      <td>-0.069241</td>\n",
       "      <td>-0.014388</td>\n",
       "      <td>-0.091892</td>\n",
       "      <td>-0.082562</td>\n",
       "      <td>-0.050139</td>\n",
       "      <td>-0.040956</td>\n",
       "      <td>-0.117895</td>\n",
       "      <td>-0.138075</td>\n",
       "    </tr>\n",
       "    <tr>\n",
       "      <th>1990-02</th>\n",
       "      <td>0.006441</td>\n",
       "      <td>0.014900</td>\n",
       "      <td>0.090909</td>\n",
       "      <td>0.076786</td>\n",
       "      <td>-0.255639</td>\n",
       "      <td>0.176471</td>\n",
       "      <td>-0.035971</td>\n",
       "      <td>0.095789</td>\n",
       "      <td>-0.080000</td>\n",
       "      <td>0.750000</td>\n",
       "      <td>...</td>\n",
       "      <td>-0.037069</td>\n",
       "      <td>-0.030852</td>\n",
       "      <td>0.051621</td>\n",
       "      <td>-0.129927</td>\n",
       "      <td>0.067857</td>\n",
       "      <td>-0.001953</td>\n",
       "      <td>0.032258</td>\n",
       "      <td>0.132527</td>\n",
       "      <td>0.029403</td>\n",
       "      <td>-0.004854</td>\n",
       "    </tr>\n",
       "    <tr>\n",
       "      <th>1990-03</th>\n",
       "      <td>0.006688</td>\n",
       "      <td>0.024148</td>\n",
       "      <td>0.250000</td>\n",
       "      <td>0.030812</td>\n",
       "      <td>0.265657</td>\n",
       "      <td>0.225000</td>\n",
       "      <td>-0.037313</td>\n",
       "      <td>0.217391</td>\n",
       "      <td>0.000000</td>\n",
       "      <td>0.428571</td>\n",
       "      <td>...</td>\n",
       "      <td>0.070393</td>\n",
       "      <td>-0.069204</td>\n",
       "      <td>0.014840</td>\n",
       "      <td>0.027542</td>\n",
       "      <td>-0.129213</td>\n",
       "      <td>0.060665</td>\n",
       "      <td>0.075455</td>\n",
       "      <td>0.150943</td>\n",
       "      <td>0.046620</td>\n",
       "      <td>-0.061268</td>\n",
       "    </tr>\n",
       "    <tr>\n",
       "      <th>1990-04</th>\n",
       "      <td>0.006283</td>\n",
       "      <td>-0.028283</td>\n",
       "      <td>-0.216667</td>\n",
       "      <td>-0.019231</td>\n",
       "      <td>-0.084000</td>\n",
       "      <td>0.020408</td>\n",
       "      <td>-0.038760</td>\n",
       "      <td>-0.059524</td>\n",
       "      <td>-0.086957</td>\n",
       "      <td>0.050000</td>\n",
       "      <td>...</td>\n",
       "      <td>0.023211</td>\n",
       "      <td>-0.003717</td>\n",
       "      <td>-0.004319</td>\n",
       "      <td>-0.063918</td>\n",
       "      <td>-0.019355</td>\n",
       "      <td>0.049077</td>\n",
       "      <td>0.050265</td>\n",
       "      <td>0.021858</td>\n",
       "      <td>0.008909</td>\n",
       "      <td>0.000000</td>\n",
       "    </tr>\n",
       "    <tr>\n",
       "      <th>1990-05</th>\n",
       "      <td>0.006132</td>\n",
       "      <td>0.088935</td>\n",
       "      <td>0.021277</td>\n",
       "      <td>0.010644</td>\n",
       "      <td>-0.027948</td>\n",
       "      <td>-0.120000</td>\n",
       "      <td>0.169355</td>\n",
       "      <td>0.207595</td>\n",
       "      <td>0.142857</td>\n",
       "      <td>0.000000</td>\n",
       "      <td>...</td>\n",
       "      <td>0.189565</td>\n",
       "      <td>0.067164</td>\n",
       "      <td>0.167421</td>\n",
       "      <td>0.171366</td>\n",
       "      <td>0.028947</td>\n",
       "      <td>0.169912</td>\n",
       "      <td>0.136020</td>\n",
       "      <td>0.296791</td>\n",
       "      <td>0.134040</td>\n",
       "      <td>0.171123</td>\n",
       "    </tr>\n",
       "    <tr>\n",
       "      <th>...</th>\n",
       "      <td>...</td>\n",
       "      <td>...</td>\n",
       "      <td>...</td>\n",
       "      <td>...</td>\n",
       "      <td>...</td>\n",
       "      <td>...</td>\n",
       "      <td>...</td>\n",
       "      <td>...</td>\n",
       "      <td>...</td>\n",
       "      <td>...</td>\n",
       "      <td>...</td>\n",
       "      <td>...</td>\n",
       "      <td>...</td>\n",
       "      <td>...</td>\n",
       "      <td>...</td>\n",
       "      <td>...</td>\n",
       "      <td>...</td>\n",
       "      <td>...</td>\n",
       "      <td>...</td>\n",
       "      <td>...</td>\n",
       "      <td>...</td>\n",
       "    </tr>\n",
       "    <tr>\n",
       "      <th>2021-08</th>\n",
       "      <td>0.000034</td>\n",
       "      <td>0.027147</td>\n",
       "      <td>0.003521</td>\n",
       "      <td>-0.035622</td>\n",
       "      <td>0.060345</td>\n",
       "      <td>0.320649</td>\n",
       "      <td>-0.047777</td>\n",
       "      <td>-0.273874</td>\n",
       "      <td>0.056357</td>\n",
       "      <td>-0.207006</td>\n",
       "      <td>...</td>\n",
       "      <td>0.064230</td>\n",
       "      <td>0.026259</td>\n",
       "      <td>0.029997</td>\n",
       "      <td>0.076150</td>\n",
       "      <td>0.088373</td>\n",
       "      <td>0.001125</td>\n",
       "      <td>0.042792</td>\n",
       "      <td>-0.006125</td>\n",
       "      <td>0.011556</td>\n",
       "      <td>0.053828</td>\n",
       "    </tr>\n",
       "    <tr>\n",
       "      <th>2021-09</th>\n",
       "      <td>0.000038</td>\n",
       "      <td>-0.042243</td>\n",
       "      <td>-0.031579</td>\n",
       "      <td>0.042324</td>\n",
       "      <td>0.231707</td>\n",
       "      <td>0.027434</td>\n",
       "      <td>0.013937</td>\n",
       "      <td>0.066998</td>\n",
       "      <td>0.217047</td>\n",
       "      <td>0.071486</td>\n",
       "      <td>...</td>\n",
       "      <td>-0.105463</td>\n",
       "      <td>-0.043082</td>\n",
       "      <td>-0.066906</td>\n",
       "      <td>-0.066421</td>\n",
       "      <td>0.021796</td>\n",
       "      <td>-0.018189</td>\n",
       "      <td>-0.058879</td>\n",
       "      <td>0.011435</td>\n",
       "      <td>-0.067175</td>\n",
       "      <td>0.023382</td>\n",
       "    </tr>\n",
       "    <tr>\n",
       "      <th>2021-10</th>\n",
       "      <td>0.000042</td>\n",
       "      <td>0.064657</td>\n",
       "      <td>0.057971</td>\n",
       "      <td>0.001116</td>\n",
       "      <td>-0.158416</td>\n",
       "      <td>-0.025840</td>\n",
       "      <td>0.039863</td>\n",
       "      <td>-0.108140</td>\n",
       "      <td>-0.074486</td>\n",
       "      <td>0.096327</td>\n",
       "      <td>...</td>\n",
       "      <td>0.102618</td>\n",
       "      <td>0.052319</td>\n",
       "      <td>-0.000591</td>\n",
       "      <td>0.016973</td>\n",
       "      <td>0.125559</td>\n",
       "      <td>0.029040</td>\n",
       "      <td>0.072033</td>\n",
       "      <td>0.132456</td>\n",
       "      <td>0.008545</td>\n",
       "      <td>0.043986</td>\n",
       "    </tr>\n",
       "    <tr>\n",
       "      <th>2021-11</th>\n",
       "      <td>0.000068</td>\n",
       "      <td>-0.018347</td>\n",
       "      <td>-0.109658</td>\n",
       "      <td>-0.043866</td>\n",
       "      <td>-0.015686</td>\n",
       "      <td>0.126879</td>\n",
       "      <td>-0.027098</td>\n",
       "      <td>0.071708</td>\n",
       "      <td>0.017576</td>\n",
       "      <td>0.080342</td>\n",
       "      <td>...</td>\n",
       "      <td>-0.023041</td>\n",
       "      <td>-0.037020</td>\n",
       "      <td>-0.142959</td>\n",
       "      <td>0.237311</td>\n",
       "      <td>-0.069276</td>\n",
       "      <td>0.011120</td>\n",
       "      <td>-0.058827</td>\n",
       "      <td>0.077662</td>\n",
       "      <td>-0.036162</td>\n",
       "      <td>-0.065101</td>\n",
       "    </tr>\n",
       "    <tr>\n",
       "      <th>2021-12</th>\n",
       "      <td>0.000042</td>\n",
       "      <td>0.033345</td>\n",
       "      <td>-0.088391</td>\n",
       "      <td>0.030132</td>\n",
       "      <td>0.159363</td>\n",
       "      <td>-0.005100</td>\n",
       "      <td>-0.034654</td>\n",
       "      <td>-0.209246</td>\n",
       "      <td>0.025909</td>\n",
       "      <td>-0.023079</td>\n",
       "      <td>...</td>\n",
       "      <td>0.113611</td>\n",
       "      <td>0.081046</td>\n",
       "      <td>0.068944</td>\n",
       "      <td>0.099014</td>\n",
       "      <td>0.005172</td>\n",
       "      <td>0.131415</td>\n",
       "      <td>0.032781</td>\n",
       "      <td>0.040064</td>\n",
       "      <td>0.097095</td>\n",
       "      <td>-0.003022</td>\n",
       "    </tr>\n",
       "  </tbody>\n",
       "</table>\n",
       "<p>384 rows × 330 columns</p>\n",
       "</div>"
      ],
      "text/plain": [
       "         risk_free    vwretd   13769.0   30509.0   42358.0   50243.0  \\\n",
       "date                                                                   \n",
       "1990-01   0.006390 -0.070114 -0.185185 -0.028902 -0.037545 -0.150000   \n",
       "1990-02   0.006441  0.014900  0.090909  0.076786 -0.255639  0.176471   \n",
       "1990-03   0.006688  0.024148  0.250000  0.030812  0.265657  0.225000   \n",
       "1990-04   0.006283 -0.028283 -0.216667 -0.019231 -0.084000  0.020408   \n",
       "1990-05   0.006132  0.088935  0.021277  0.010644 -0.027948 -0.120000   \n",
       "...            ...       ...       ...       ...       ...       ...   \n",
       "2021-08   0.000034  0.027147  0.003521 -0.035622  0.060345  0.320649   \n",
       "2021-09   0.000038 -0.042243 -0.031579  0.042324  0.231707  0.027434   \n",
       "2021-10   0.000042  0.064657  0.057971  0.001116 -0.158416 -0.025840   \n",
       "2021-11   0.000068 -0.018347 -0.109658 -0.043866 -0.015686  0.126879   \n",
       "2021-12   0.000042  0.033345 -0.088391  0.030132  0.159363 -0.005100   \n",
       "\n",
       "          31691.0   49138.0   29058.0   54244.0  ...   50876.0   17778.0  \\\n",
       "date                                             ...                       \n",
       "1990-01 -0.054422 -0.144144  0.041667 -0.111111  ... -0.078467 -0.140634   \n",
       "1990-02 -0.035971  0.095789 -0.080000  0.750000  ... -0.037069 -0.030852   \n",
       "1990-03 -0.037313  0.217391  0.000000  0.428571  ...  0.070393 -0.069204   \n",
       "1990-04 -0.038760 -0.059524 -0.086957  0.050000  ...  0.023211 -0.003717   \n",
       "1990-05  0.169355  0.207595  0.142857  0.000000  ...  0.189565  0.067164   \n",
       "...           ...       ...       ...       ...  ...       ...       ...   \n",
       "2021-08 -0.047777 -0.273874  0.056357 -0.207006  ...  0.064230  0.026259   \n",
       "2021-09  0.013937  0.066998  0.217047  0.071486  ... -0.105463 -0.043082   \n",
       "2021-10  0.039863 -0.108140 -0.074486  0.096327  ...  0.102618  0.052319   \n",
       "2021-11 -0.027098  0.071708  0.017576  0.080342  ... -0.023041 -0.037020   \n",
       "2021-12 -0.034654 -0.209246  0.025909 -0.023079  ...  0.113611  0.081046   \n",
       "\n",
       "          26403.0   21936.0   59408.0   18163.0   55976.0   66181.0   22111.0  \\\n",
       "date                                                                            \n",
       "1990-01 -0.069241 -0.014388 -0.091892 -0.082562 -0.050139 -0.040956 -0.117895   \n",
       "1990-02  0.051621 -0.129927  0.067857 -0.001953  0.032258  0.132527  0.029403   \n",
       "1990-03  0.014840  0.027542 -0.129213  0.060665  0.075455  0.150943  0.046620   \n",
       "1990-04 -0.004319 -0.063918 -0.019355  0.049077  0.050265  0.021858  0.008909   \n",
       "1990-05  0.167421  0.171366  0.028947  0.169912  0.136020  0.296791  0.134040   \n",
       "...           ...       ...       ...       ...       ...       ...       ...   \n",
       "2021-08  0.029997  0.076150  0.088373  0.001125  0.042792 -0.006125  0.011556   \n",
       "2021-09 -0.066906 -0.066421  0.021796 -0.018189 -0.058879  0.011435 -0.067175   \n",
       "2021-10 -0.000591  0.016973  0.125559  0.029040  0.072033  0.132456  0.008545   \n",
       "2021-11 -0.142959  0.237311 -0.069276  0.011120 -0.058827  0.077662 -0.036162   \n",
       "2021-12  0.068944  0.099014  0.005172  0.131415  0.032781  0.040064  0.097095   \n",
       "\n",
       "          47896.0  \n",
       "date               \n",
       "1990-01 -0.138075  \n",
       "1990-02 -0.004854  \n",
       "1990-03 -0.061268  \n",
       "1990-04  0.000000  \n",
       "1990-05  0.171123  \n",
       "...           ...  \n",
       "2021-08  0.053828  \n",
       "2021-09  0.023382  \n",
       "2021-10  0.043986  \n",
       "2021-11 -0.065101  \n",
       "2021-12 -0.003022  \n",
       "\n",
       "[384 rows x 330 columns]"
      ]
     },
     "metadata": {},
     "output_type": "display_data"
    }
   ],
   "source": [
    "risk_free = risk_free.sort_index()\n",
    "stocks_ret_matrix = pd.DataFrame(index = risk_free.index, data = risk_free)\n",
    "stocks_ret_matrix = pd.merge(stocks_ret_matrix, market_index, left_index=True, right_index= True, suffixes=(\"\",\"\"))\n",
    "\n",
    "for permno in tqdm(stocks_returns_pemno):\n",
    "    display()\n",
    "    stocks_ret_matrix = pd.merge(stocks_ret_matrix,\n",
    "                stocks_returns_raw[stocks_returns_raw[\"permno\"]==permno]\n",
    "                                .set_index(\"date\")[\"ret\"].rename( permno ),\n",
    "                left_index = True, right_index = True, suffixes=(\"\",\"\"))\n",
    "    \n",
    "display(stocks_ret_matrix)"
   ]
  },
  {
   "cell_type": "code",
   "execution_count": 9,
   "id": "2e19ebb5",
   "metadata": {},
   "outputs": [],
   "source": [
    "#Separate the dataFrame into the 10 quantile\n",
    "group1 = stocks_returns_dec_2021.iloc[:33]\n",
    "group2 = stocks_returns_dec_2021.iloc[33:66]\n",
    "group3 = stocks_returns_dec_2021.iloc[66:99]\n",
    "group4 = stocks_returns_dec_2021.iloc[99:132]\n",
    "group5 = stocks_returns_dec_2021.iloc[132:165]\n",
    "group6 = stocks_returns_dec_2021.iloc[165:198]\n",
    "group7 = stocks_returns_dec_2021.iloc[198:231]\n",
    "group8 = stocks_returns_dec_2021.iloc[231:264]\n",
    "group9 = stocks_returns_dec_2021.iloc[264:296]\n",
    "group10 = stocks_returns_dec_2021.iloc[296:]"
   ]
  },
  {
   "cell_type": "code",
   "execution_count": 10,
   "id": "84770ae2",
   "metadata": {},
   "outputs": [],
   "source": [
    "def permno_group(group):\n",
    "    liste_permno = []\n",
    "    liste_permno = list(group.index)\n",
    "    return liste_permno"
   ]
  },
  {
   "cell_type": "code",
   "execution_count": 11,
   "id": "816b7108",
   "metadata": {},
   "outputs": [],
   "source": [
    "# put all data into a dataframe indexed by their permno and date, and each return is on the right date\n",
    "risk_free = risk_free.sort_index()\n",
    "def DataFrame_group_return(liste_group):\n",
    "    stocks_ret_matrix = pd.DataFrame(index = risk_free.index, data = risk_free)\n",
    "    stocks_ret_matrix = pd.merge(stocks_ret_matrix, market_index, left_index=True, right_index= True, suffixes=(\"\",\"\"))\n",
    "    stocks_marketcap_matrix = pd.DataFrame(index = risk_free.index)\n",
    "    for permno in liste_group:\n",
    "        display()\n",
    "        stocks_ret_matrix = pd.merge(stocks_ret_matrix,\n",
    "                  stocks_returns_raw_clean[stocks_returns_raw_clean[\"permno\"]==permno]\n",
    "                                 .set_index(\"date\")[\"ret\"].rename( permno ),\n",
    "                  left_index = True, right_index = True, suffixes=(\"\",\"\"))\n",
    "        \n",
    "        stocks_marketcap_matrix = pd.merge(stocks_marketcap_matrix , \n",
    "                                           stocks_returns_raw_clean[stocks_returns_raw_clean[\"permno\"] == permno]\n",
    "                                           .set_index(\"date\")[\"Market Cap\"].rename( permno ),\n",
    "                                            left_index = True, right_index = True, suffixes=(\"\",\"\"))\n",
    "    \n",
    "    return stocks_ret_matrix , stocks_marketcap_matrix"
   ]
  },
  {
   "cell_type": "code",
   "execution_count": 12,
   "id": "5aa21d39",
   "metadata": {},
   "outputs": [
    {
     "data": {
      "text/html": [
       "<div>\n",
       "<style scoped>\n",
       "    .dataframe tbody tr th:only-of-type {\n",
       "        vertical-align: middle;\n",
       "    }\n",
       "\n",
       "    .dataframe tbody tr th {\n",
       "        vertical-align: top;\n",
       "    }\n",
       "\n",
       "    .dataframe thead th {\n",
       "        text-align: right;\n",
       "    }\n",
       "</style>\n",
       "<table border=\"1\" class=\"dataframe\">\n",
       "  <thead>\n",
       "    <tr style=\"text-align: right;\">\n",
       "      <th></th>\n",
       "      <th>risk_free</th>\n",
       "      <th>vwretd</th>\n",
       "      <th>13769.0</th>\n",
       "      <th>30509.0</th>\n",
       "      <th>42358.0</th>\n",
       "      <th>50243.0</th>\n",
       "      <th>31691.0</th>\n",
       "      <th>49138.0</th>\n",
       "      <th>29058.0</th>\n",
       "      <th>54244.0</th>\n",
       "      <th>...</th>\n",
       "      <th>13303.0</th>\n",
       "      <th>75649.0</th>\n",
       "      <th>50606.0</th>\n",
       "      <th>57007.0</th>\n",
       "      <th>47511.0</th>\n",
       "      <th>63132.0</th>\n",
       "      <th>68830.0</th>\n",
       "      <th>34497.0</th>\n",
       "      <th>50550.0</th>\n",
       "      <th>40440.0</th>\n",
       "    </tr>\n",
       "    <tr>\n",
       "      <th>date</th>\n",
       "      <th></th>\n",
       "      <th></th>\n",
       "      <th></th>\n",
       "      <th></th>\n",
       "      <th></th>\n",
       "      <th></th>\n",
       "      <th></th>\n",
       "      <th></th>\n",
       "      <th></th>\n",
       "      <th></th>\n",
       "      <th></th>\n",
       "      <th></th>\n",
       "      <th></th>\n",
       "      <th></th>\n",
       "      <th></th>\n",
       "      <th></th>\n",
       "      <th></th>\n",
       "      <th></th>\n",
       "      <th></th>\n",
       "      <th></th>\n",
       "      <th></th>\n",
       "    </tr>\n",
       "  </thead>\n",
       "  <tbody>\n",
       "    <tr>\n",
       "      <th>1990-01</th>\n",
       "      <td>0.006390</td>\n",
       "      <td>-0.070114</td>\n",
       "      <td>-0.185185</td>\n",
       "      <td>-0.028902</td>\n",
       "      <td>-0.037545</td>\n",
       "      <td>-0.150000</td>\n",
       "      <td>-0.054422</td>\n",
       "      <td>-0.144144</td>\n",
       "      <td>0.041667</td>\n",
       "      <td>-0.111111</td>\n",
       "      <td>...</td>\n",
       "      <td>-0.107692</td>\n",
       "      <td>-0.244094</td>\n",
       "      <td>-0.086957</td>\n",
       "      <td>-0.014205</td>\n",
       "      <td>-0.130980</td>\n",
       "      <td>-0.200000</td>\n",
       "      <td>0.103448</td>\n",
       "      <td>-0.069307</td>\n",
       "      <td>-0.161871</td>\n",
       "      <td>0.120130</td>\n",
       "    </tr>\n",
       "    <tr>\n",
       "      <th>1990-02</th>\n",
       "      <td>0.006441</td>\n",
       "      <td>0.014900</td>\n",
       "      <td>0.090909</td>\n",
       "      <td>0.076786</td>\n",
       "      <td>-0.255639</td>\n",
       "      <td>0.176471</td>\n",
       "      <td>-0.035971</td>\n",
       "      <td>0.095789</td>\n",
       "      <td>-0.080000</td>\n",
       "      <td>0.750000</td>\n",
       "      <td>...</td>\n",
       "      <td>-0.017241</td>\n",
       "      <td>0.041667</td>\n",
       "      <td>0.066667</td>\n",
       "      <td>-0.043228</td>\n",
       "      <td>0.056818</td>\n",
       "      <td>0.375000</td>\n",
       "      <td>-0.062500</td>\n",
       "      <td>0.084397</td>\n",
       "      <td>0.075536</td>\n",
       "      <td>0.040580</td>\n",
       "    </tr>\n",
       "    <tr>\n",
       "      <th>1990-03</th>\n",
       "      <td>0.006688</td>\n",
       "      <td>0.024148</td>\n",
       "      <td>0.250000</td>\n",
       "      <td>0.030812</td>\n",
       "      <td>0.265657</td>\n",
       "      <td>0.225000</td>\n",
       "      <td>-0.037313</td>\n",
       "      <td>0.217391</td>\n",
       "      <td>0.000000</td>\n",
       "      <td>0.428571</td>\n",
       "      <td>...</td>\n",
       "      <td>-0.139181</td>\n",
       "      <td>0.104800</td>\n",
       "      <td>0.008929</td>\n",
       "      <td>0.123494</td>\n",
       "      <td>-0.005376</td>\n",
       "      <td>-0.060606</td>\n",
       "      <td>-0.133333</td>\n",
       "      <td>0.119454</td>\n",
       "      <td>0.028112</td>\n",
       "      <td>0.025281</td>\n",
       "    </tr>\n",
       "    <tr>\n",
       "      <th>1990-04</th>\n",
       "      <td>0.006283</td>\n",
       "      <td>-0.028283</td>\n",
       "      <td>-0.216667</td>\n",
       "      <td>-0.019231</td>\n",
       "      <td>-0.084000</td>\n",
       "      <td>0.020408</td>\n",
       "      <td>-0.038760</td>\n",
       "      <td>-0.059524</td>\n",
       "      <td>-0.086957</td>\n",
       "      <td>0.050000</td>\n",
       "      <td>...</td>\n",
       "      <td>-0.068493</td>\n",
       "      <td>-0.109091</td>\n",
       "      <td>-0.017699</td>\n",
       "      <td>-0.056300</td>\n",
       "      <td>-0.003892</td>\n",
       "      <td>0.000000</td>\n",
       "      <td>0.038462</td>\n",
       "      <td>-0.057927</td>\n",
       "      <td>-0.179688</td>\n",
       "      <td>-0.109589</td>\n",
       "    </tr>\n",
       "    <tr>\n",
       "      <th>1990-05</th>\n",
       "      <td>0.006132</td>\n",
       "      <td>0.088935</td>\n",
       "      <td>0.021277</td>\n",
       "      <td>0.010644</td>\n",
       "      <td>-0.027948</td>\n",
       "      <td>-0.120000</td>\n",
       "      <td>0.169355</td>\n",
       "      <td>0.207595</td>\n",
       "      <td>0.142857</td>\n",
       "      <td>0.000000</td>\n",
       "      <td>...</td>\n",
       "      <td>0.066176</td>\n",
       "      <td>0.030612</td>\n",
       "      <td>0.279279</td>\n",
       "      <td>-0.016477</td>\n",
       "      <td>-0.021858</td>\n",
       "      <td>0.225806</td>\n",
       "      <td>-0.148148</td>\n",
       "      <td>0.126214</td>\n",
       "      <td>-0.182857</td>\n",
       "      <td>0.089231</td>\n",
       "    </tr>\n",
       "    <tr>\n",
       "      <th>...</th>\n",
       "      <td>...</td>\n",
       "      <td>...</td>\n",
       "      <td>...</td>\n",
       "      <td>...</td>\n",
       "      <td>...</td>\n",
       "      <td>...</td>\n",
       "      <td>...</td>\n",
       "      <td>...</td>\n",
       "      <td>...</td>\n",
       "      <td>...</td>\n",
       "      <td>...</td>\n",
       "      <td>...</td>\n",
       "      <td>...</td>\n",
       "      <td>...</td>\n",
       "      <td>...</td>\n",
       "      <td>...</td>\n",
       "      <td>...</td>\n",
       "      <td>...</td>\n",
       "      <td>...</td>\n",
       "      <td>...</td>\n",
       "      <td>...</td>\n",
       "    </tr>\n",
       "    <tr>\n",
       "      <th>2021-08</th>\n",
       "      <td>0.000034</td>\n",
       "      <td>0.027147</td>\n",
       "      <td>0.003521</td>\n",
       "      <td>-0.035622</td>\n",
       "      <td>0.060345</td>\n",
       "      <td>0.320649</td>\n",
       "      <td>-0.047777</td>\n",
       "      <td>-0.273874</td>\n",
       "      <td>0.056357</td>\n",
       "      <td>-0.207006</td>\n",
       "      <td>...</td>\n",
       "      <td>0.134328</td>\n",
       "      <td>0.016067</td>\n",
       "      <td>0.015901</td>\n",
       "      <td>0.054306</td>\n",
       "      <td>-0.018209</td>\n",
       "      <td>-0.023170</td>\n",
       "      <td>0.033659</td>\n",
       "      <td>-0.134121</td>\n",
       "      <td>0.024876</td>\n",
       "      <td>0.045149</td>\n",
       "    </tr>\n",
       "    <tr>\n",
       "      <th>2021-09</th>\n",
       "      <td>0.000038</td>\n",
       "      <td>-0.042243</td>\n",
       "      <td>-0.031579</td>\n",
       "      <td>0.042324</td>\n",
       "      <td>0.231707</td>\n",
       "      <td>0.027434</td>\n",
       "      <td>0.013937</td>\n",
       "      <td>0.066998</td>\n",
       "      <td>0.217047</td>\n",
       "      <td>0.071486</td>\n",
       "      <td>...</td>\n",
       "      <td>-0.149123</td>\n",
       "      <td>-0.073795</td>\n",
       "      <td>0.048696</td>\n",
       "      <td>-0.075962</td>\n",
       "      <td>-0.028851</td>\n",
       "      <td>-0.044592</td>\n",
       "      <td>-0.057692</td>\n",
       "      <td>-0.017477</td>\n",
       "      <td>-0.099861</td>\n",
       "      <td>-0.070772</td>\n",
       "    </tr>\n",
       "    <tr>\n",
       "      <th>2021-10</th>\n",
       "      <td>0.000042</td>\n",
       "      <td>0.064657</td>\n",
       "      <td>0.057971</td>\n",
       "      <td>0.001116</td>\n",
       "      <td>-0.158416</td>\n",
       "      <td>-0.025840</td>\n",
       "      <td>0.039863</td>\n",
       "      <td>-0.108140</td>\n",
       "      <td>-0.074486</td>\n",
       "      <td>0.096327</td>\n",
       "      <td>...</td>\n",
       "      <td>0.001736</td>\n",
       "      <td>-0.009852</td>\n",
       "      <td>0.005804</td>\n",
       "      <td>0.025338</td>\n",
       "      <td>0.018037</td>\n",
       "      <td>-0.038927</td>\n",
       "      <td>0.101164</td>\n",
       "      <td>0.013036</td>\n",
       "      <td>0.049307</td>\n",
       "      <td>-0.109792</td>\n",
       "    </tr>\n",
       "    <tr>\n",
       "      <th>2021-11</th>\n",
       "      <td>0.000068</td>\n",
       "      <td>-0.018347</td>\n",
       "      <td>-0.109658</td>\n",
       "      <td>-0.043866</td>\n",
       "      <td>-0.015686</td>\n",
       "      <td>0.126879</td>\n",
       "      <td>-0.027098</td>\n",
       "      <td>0.071708</td>\n",
       "      <td>0.017576</td>\n",
       "      <td>0.080342</td>\n",
       "      <td>...</td>\n",
       "      <td>0.065858</td>\n",
       "      <td>-0.087894</td>\n",
       "      <td>-0.140148</td>\n",
       "      <td>0.004942</td>\n",
       "      <td>0.004224</td>\n",
       "      <td>-0.121513</td>\n",
       "      <td>0.034679</td>\n",
       "      <td>-0.016476</td>\n",
       "      <td>-0.055800</td>\n",
       "      <td>-0.098889</td>\n",
       "    </tr>\n",
       "    <tr>\n",
       "      <th>2021-12</th>\n",
       "      <td>0.000042</td>\n",
       "      <td>0.033345</td>\n",
       "      <td>-0.088391</td>\n",
       "      <td>0.030132</td>\n",
       "      <td>0.159363</td>\n",
       "      <td>-0.005100</td>\n",
       "      <td>-0.034654</td>\n",
       "      <td>-0.209246</td>\n",
       "      <td>0.025909</td>\n",
       "      <td>-0.023079</td>\n",
       "      <td>...</td>\n",
       "      <td>0.213008</td>\n",
       "      <td>0.085455</td>\n",
       "      <td>0.026846</td>\n",
       "      <td>0.042623</td>\n",
       "      <td>0.026814</td>\n",
       "      <td>0.100212</td>\n",
       "      <td>0.054945</td>\n",
       "      <td>0.003057</td>\n",
       "      <td>-0.038103</td>\n",
       "      <td>0.115906</td>\n",
       "    </tr>\n",
       "  </tbody>\n",
       "</table>\n",
       "<p>384 rows × 35 columns</p>\n",
       "</div>"
      ],
      "text/plain": [
       "         risk_free    vwretd   13769.0   30509.0   42358.0   50243.0  \\\n",
       "date                                                                   \n",
       "1990-01   0.006390 -0.070114 -0.185185 -0.028902 -0.037545 -0.150000   \n",
       "1990-02   0.006441  0.014900  0.090909  0.076786 -0.255639  0.176471   \n",
       "1990-03   0.006688  0.024148  0.250000  0.030812  0.265657  0.225000   \n",
       "1990-04   0.006283 -0.028283 -0.216667 -0.019231 -0.084000  0.020408   \n",
       "1990-05   0.006132  0.088935  0.021277  0.010644 -0.027948 -0.120000   \n",
       "...            ...       ...       ...       ...       ...       ...   \n",
       "2021-08   0.000034  0.027147  0.003521 -0.035622  0.060345  0.320649   \n",
       "2021-09   0.000038 -0.042243 -0.031579  0.042324  0.231707  0.027434   \n",
       "2021-10   0.000042  0.064657  0.057971  0.001116 -0.158416 -0.025840   \n",
       "2021-11   0.000068 -0.018347 -0.109658 -0.043866 -0.015686  0.126879   \n",
       "2021-12   0.000042  0.033345 -0.088391  0.030132  0.159363 -0.005100   \n",
       "\n",
       "          31691.0   49138.0   29058.0   54244.0  ...   13303.0   75649.0  \\\n",
       "date                                             ...                       \n",
       "1990-01 -0.054422 -0.144144  0.041667 -0.111111  ... -0.107692 -0.244094   \n",
       "1990-02 -0.035971  0.095789 -0.080000  0.750000  ... -0.017241  0.041667   \n",
       "1990-03 -0.037313  0.217391  0.000000  0.428571  ... -0.139181  0.104800   \n",
       "1990-04 -0.038760 -0.059524 -0.086957  0.050000  ... -0.068493 -0.109091   \n",
       "1990-05  0.169355  0.207595  0.142857  0.000000  ...  0.066176  0.030612   \n",
       "...           ...       ...       ...       ...  ...       ...       ...   \n",
       "2021-08 -0.047777 -0.273874  0.056357 -0.207006  ...  0.134328  0.016067   \n",
       "2021-09  0.013937  0.066998  0.217047  0.071486  ... -0.149123 -0.073795   \n",
       "2021-10  0.039863 -0.108140 -0.074486  0.096327  ...  0.001736 -0.009852   \n",
       "2021-11 -0.027098  0.071708  0.017576  0.080342  ...  0.065858 -0.087894   \n",
       "2021-12 -0.034654 -0.209246  0.025909 -0.023079  ...  0.213008  0.085455   \n",
       "\n",
       "          50606.0   57007.0   47511.0   63132.0   68830.0   34497.0   50550.0  \\\n",
       "date                                                                            \n",
       "1990-01 -0.086957 -0.014205 -0.130980 -0.200000  0.103448 -0.069307 -0.161871   \n",
       "1990-02  0.066667 -0.043228  0.056818  0.375000 -0.062500  0.084397  0.075536   \n",
       "1990-03  0.008929  0.123494 -0.005376 -0.060606 -0.133333  0.119454  0.028112   \n",
       "1990-04 -0.017699 -0.056300 -0.003892  0.000000  0.038462 -0.057927 -0.179688   \n",
       "1990-05  0.279279 -0.016477 -0.021858  0.225806 -0.148148  0.126214 -0.182857   \n",
       "...           ...       ...       ...       ...       ...       ...       ...   \n",
       "2021-08  0.015901  0.054306 -0.018209 -0.023170  0.033659 -0.134121  0.024876   \n",
       "2021-09  0.048696 -0.075962 -0.028851 -0.044592 -0.057692 -0.017477 -0.099861   \n",
       "2021-10  0.005804  0.025338  0.018037 -0.038927  0.101164  0.013036  0.049307   \n",
       "2021-11 -0.140148  0.004942  0.004224 -0.121513  0.034679 -0.016476 -0.055800   \n",
       "2021-12  0.026846  0.042623  0.026814  0.100212  0.054945  0.003057 -0.038103   \n",
       "\n",
       "          40440.0  \n",
       "date               \n",
       "1990-01  0.120130  \n",
       "1990-02  0.040580  \n",
       "1990-03  0.025281  \n",
       "1990-04 -0.109589  \n",
       "1990-05  0.089231  \n",
       "...           ...  \n",
       "2021-08  0.045149  \n",
       "2021-09 -0.070772  \n",
       "2021-10 -0.109792  \n",
       "2021-11 -0.098889  \n",
       "2021-12  0.115906  \n",
       "\n",
       "[384 rows x 35 columns]"
      ]
     },
     "metadata": {},
     "output_type": "display_data"
    }
   ],
   "source": [
    "test1, test2 = DataFrame_group_return(permno_group(group1))\n",
    "display(test1)"
   ]
  },
  {
   "cell_type": "code",
   "execution_count": 13,
   "id": "1b0dfda7",
   "metadata": {},
   "outputs": [],
   "source": [
    "def equally_weighted(group):\n",
    "    #Begin by computing the return at each date\n",
    "    Return = pd.DataFrame(index = risk_free.index , data = risk_free)\n",
    "    ret , _ = DataFrame_group_return(permno_group(group))\n",
    "    Return[\"Return\"] = ret.drop([\"risk_free\",\"vwretd\"],axis=1).mean(axis = 1)\n",
    "    Return[\"Excess Return\"] = Return[\"Return\"] - stocks_ret_matrix[\"risk_free\"]\n",
    "    Return[\"Market Premium\"] = stocks_ret_matrix[\"vwretd\"] - stocks_ret_matrix[\"risk_free\"]\n",
    "    avg_ret = Return[\"Excess Return\"].mean()\n",
    "    print(f\"The the sample average excess return of these decile is : {avg_ret:.2%}\")\n",
    "\n",
    "    model = sm.OLS(Return[\"Excess Return\"] , sm.add_constant(Return[\"Market Premium\"]) )\n",
    "    results = model.fit()\n",
    "    alpha = results.params[\"const\"]\n",
    "    beta = results.params[\"Market Premium\"]\n",
    "    print(f\"The the sample corresponding alpha is : {alpha:.2%}\")\n",
    "    print(f\"The the sample corresponding beta is : {beta:.4}\")\n",
    "    \n",
    "    return avg_ret,alpha,beta"
   ]
  },
  {
   "cell_type": "code",
   "execution_count": 14,
   "id": "b83aac6a",
   "metadata": {},
   "outputs": [],
   "source": [
    "def value_weighted(group):\n",
    "    #Begin by computing the return at each date\n",
    "    Return = pd.DataFrame(index = risk_free.index[1:] , data = risk_free[1:])\n",
    "    ret , mkt_cap = DataFrame_group_return(permno_group(group))\n",
    "    weight = pd.DataFrame(index = risk_free.index[1:] , columns = permno_group(group))\n",
    "    for date in ret.index[:-1]:\n",
    "        weight.loc[date+1] = mkt_cap.loc[date] / mkt_cap.loc[date].sum()\n",
    "    Return[\"Return\"]  = (weight * ret.drop([\"risk_free\",\"vwretd\"],axis=1)[1:]).sum(axis = 1)\n",
    "    Return[\"Excess Return\"] = Return[\"Return\"] - stocks_ret_matrix[\"risk_free\"][1:]\n",
    "    Return[\"Market Premium\"] = stocks_ret_matrix[\"vwretd\"][1:] - stocks_ret_matrix[\"risk_free\"][1:]\n",
    "    \n",
    "    avg_ret = Return[\"Excess Return\"].mean()\n",
    "    print(f\"The the sample average excess return of these decile is : {avg_ret:.2%}\")\n",
    "    \n",
    "    model = sm.OLS(Return[\"Excess Return\"] , sm.add_constant(Return[\"Market Premium\"]) )\n",
    "    results = model.fit()\n",
    "    alpha = results.params[\"const\"]\n",
    "    beta = results.params[\"Market Premium\"]\n",
    "    print(f\"The the sample corresponding alpha is : {alpha:.2%}\")\n",
    "    print(f\"The the sample corresponding beta is : {beta:.4}\")\n",
    "    \n",
    "    return avg_ret,alpha,beta"
   ]
  },
  {
   "cell_type": "code",
   "execution_count": 15,
   "id": "5e31392d",
   "metadata": {},
   "outputs": [],
   "source": [
    "Avg_Returns_EW = []\n",
    "Alphas_EW = []\n",
    "Betas_EW = []\n",
    "\n",
    "Avg_Returns_VW = []\n",
    "Alphas_VW = []\n",
    "Betas_VW = []"
   ]
  },
  {
   "cell_type": "markdown",
   "id": "f2de6c34",
   "metadata": {},
   "source": [
    "# b_Decile 1"
   ]
  },
  {
   "cell_type": "code",
   "execution_count": 16,
   "id": "ba3fe5bc",
   "metadata": {},
   "outputs": [
    {
     "name": "stdout",
     "output_type": "stream",
     "text": [
      "For the Equally Weighted Portfolio, we obtain the following results:\n",
      "The the sample average excess return of these decile is : 1.00%\n",
      "The the sample corresponding alpha is : 0.29%\n",
      "The the sample corresponding beta is : 0.9937\n",
      "For the Value Weighted Portfolio, we obtain the following results:\n",
      "The the sample average excess return of these decile is : 0.21%\n",
      "The the sample corresponding alpha is : -0.65%\n",
      "The the sample corresponding beta is : 1.165\n"
     ]
    }
   ],
   "source": [
    "print(\"For the Equally Weighted Portfolio, we obtain the following results:\")\n",
    "a,b,c = equally_weighted(group1)\n",
    "Avg_Returns_EW.append(a)\n",
    "Alphas_EW.append(b)\n",
    "Betas_EW.append(c)\n",
    "\n",
    "print(\"For the Value Weighted Portfolio, we obtain the following results:\")\n",
    "a,b,c = value_weighted(group1)\n",
    "Avg_Returns_VW.append(a)\n",
    "Alphas_VW.append(b)\n",
    "Betas_VW.append(c)"
   ]
  },
  {
   "cell_type": "markdown",
   "id": "11cd34ec",
   "metadata": {},
   "source": [
    "# b_Decile 2"
   ]
  },
  {
   "cell_type": "code",
   "execution_count": 17,
   "id": "c694d3b6",
   "metadata": {},
   "outputs": [
    {
     "name": "stdout",
     "output_type": "stream",
     "text": [
      "For the Equally Weighted Portfolio, we obtain the following results:\n",
      "The the sample average excess return of these decile is : 0.96%\n",
      "The the sample corresponding alpha is : 0.15%\n",
      "The the sample corresponding beta is : 1.138\n",
      "For the Value Weighted Portfolio, we obtain the following results:\n",
      "The the sample average excess return of these decile is : 0.31%\n",
      "The the sample corresponding alpha is : -0.46%\n",
      "The the sample corresponding beta is : 1.045\n"
     ]
    }
   ],
   "source": [
    "print(\"For the Equally Weighted Portfolio, we obtain the following results:\")\n",
    "a,b,c = equally_weighted(group2)\n",
    "Avg_Returns_EW.append(a)\n",
    "Alphas_EW.append(b)\n",
    "Betas_EW.append(c)\n",
    "\n",
    "print(\"For the Value Weighted Portfolio, we obtain the following results:\")\n",
    "a,b,c = value_weighted(group2)\n",
    "Avg_Returns_VW.append(a)\n",
    "Alphas_VW.append(b)\n",
    "Betas_VW.append(c)"
   ]
  },
  {
   "cell_type": "markdown",
   "id": "3216bd89",
   "metadata": {},
   "source": [
    "# b_Decile 3"
   ]
  },
  {
   "cell_type": "code",
   "execution_count": 18,
   "id": "95f384ce",
   "metadata": {},
   "outputs": [
    {
     "name": "stdout",
     "output_type": "stream",
     "text": [
      "For the Equally Weighted Portfolio, we obtain the following results:\n",
      "The the sample average excess return of these decile is : 0.96%\n",
      "The the sample corresponding alpha is : 0.21%\n",
      "The the sample corresponding beta is : 1.046\n",
      "For the Value Weighted Portfolio, we obtain the following results:\n",
      "The the sample average excess return of these decile is : 0.54%\n",
      "The the sample corresponding alpha is : -0.26%\n",
      "The the sample corresponding beta is : 1.069\n"
     ]
    }
   ],
   "source": [
    "print(\"For the Equally Weighted Portfolio, we obtain the following results:\")\n",
    "a,b,c = equally_weighted(group3)\n",
    "Avg_Returns_EW.append(a)\n",
    "Alphas_EW.append(b)\n",
    "Betas_EW.append(c)\n",
    "\n",
    "print(\"For the Value Weighted Portfolio, we obtain the following results:\")\n",
    "a,b,c = value_weighted(group3)\n",
    "Avg_Returns_VW.append(a)\n",
    "Alphas_VW.append(b)\n",
    "Betas_VW.append(c)"
   ]
  },
  {
   "cell_type": "markdown",
   "id": "d7c8b6eb",
   "metadata": {},
   "source": [
    "# b_Decile 4"
   ]
  },
  {
   "cell_type": "code",
   "execution_count": 19,
   "id": "a77a8af5",
   "metadata": {},
   "outputs": [
    {
     "name": "stdout",
     "output_type": "stream",
     "text": [
      "For the Equally Weighted Portfolio, we obtain the following results:\n",
      "The the sample average excess return of these decile is : 1.01%\n",
      "The the sample corresponding alpha is : 0.33%\n",
      "The the sample corresponding beta is : 0.9521\n",
      "For the Value Weighted Portfolio, we obtain the following results:\n",
      "The the sample average excess return of these decile is : 0.56%\n",
      "The the sample corresponding alpha is : -0.15%\n",
      "The the sample corresponding beta is : 0.9528\n"
     ]
    }
   ],
   "source": [
    "print(\"For the Equally Weighted Portfolio, we obtain the following results:\")\n",
    "a,b,c = equally_weighted(group4)\n",
    "Avg_Returns_EW.append(a)\n",
    "Alphas_EW.append(b)\n",
    "Betas_EW.append(c)\n",
    "\n",
    "print(\"For the Value Weighted Portfolio, we obtain the following results:\")\n",
    "a,b,c = value_weighted(group4)\n",
    "Avg_Returns_VW.append(a)\n",
    "Alphas_VW.append(b)\n",
    "Betas_VW.append(c)"
   ]
  },
  {
   "cell_type": "markdown",
   "id": "378f3736",
   "metadata": {},
   "source": [
    "# b_Decile 5"
   ]
  },
  {
   "cell_type": "code",
   "execution_count": 20,
   "id": "e7919575",
   "metadata": {},
   "outputs": [
    {
     "name": "stdout",
     "output_type": "stream",
     "text": [
      "For the Equally Weighted Portfolio, we obtain the following results:\n",
      "The the sample average excess return of these decile is : 1.10%\n",
      "The the sample corresponding alpha is : 0.36%\n",
      "The the sample corresponding beta is : 1.02\n",
      "For the Value Weighted Portfolio, we obtain the following results:\n",
      "The the sample average excess return of these decile is : 0.70%\n",
      "The the sample corresponding alpha is : -0.04%\n",
      "The the sample corresponding beta is : 1.008\n"
     ]
    }
   ],
   "source": [
    "print(\"For the Equally Weighted Portfolio, we obtain the following results:\")\n",
    "a,b,c = equally_weighted(group5)\n",
    "Avg_Returns_EW.append(a)\n",
    "Alphas_EW.append(b)\n",
    "Betas_EW.append(c)\n",
    "\n",
    "print(\"For the Value Weighted Portfolio, we obtain the following results:\")\n",
    "a,b,c = value_weighted(group5)\n",
    "Avg_Returns_VW.append(a)\n",
    "Alphas_VW.append(b)\n",
    "Betas_VW.append(c)"
   ]
  },
  {
   "cell_type": "markdown",
   "id": "6dc730c6",
   "metadata": {},
   "source": [
    "# b_Decile 6"
   ]
  },
  {
   "cell_type": "code",
   "execution_count": 21,
   "id": "18526e74",
   "metadata": {},
   "outputs": [
    {
     "name": "stdout",
     "output_type": "stream",
     "text": [
      "For the Equally Weighted Portfolio, we obtain the following results:\n",
      "The the sample average excess return of these decile is : 0.94%\n",
      "The the sample corresponding alpha is : 0.24%\n",
      "The the sample corresponding beta is : 0.9701\n",
      "For the Value Weighted Portfolio, we obtain the following results:\n",
      "The the sample average excess return of these decile is : 0.60%\n",
      "The the sample corresponding alpha is : -0.13%\n",
      "The the sample corresponding beta is : 0.9904\n"
     ]
    }
   ],
   "source": [
    "print(\"For the Equally Weighted Portfolio, we obtain the following results:\")\n",
    "a,b,c = equally_weighted(group6)\n",
    "Avg_Returns_EW.append(a)\n",
    "Alphas_EW.append(b)\n",
    "Betas_EW.append(c)\n",
    "\n",
    "print(\"For the Value Weighted Portfolio, we obtain the following results:\")\n",
    "a,b,c = value_weighted(group6)\n",
    "Avg_Returns_VW.append(a)\n",
    "Alphas_VW.append(b)\n",
    "Betas_VW.append(c)"
   ]
  },
  {
   "cell_type": "markdown",
   "id": "76f5f31e",
   "metadata": {},
   "source": [
    "# b_Decile 7"
   ]
  },
  {
   "cell_type": "code",
   "execution_count": 22,
   "id": "ff8742cb",
   "metadata": {},
   "outputs": [
    {
     "name": "stdout",
     "output_type": "stream",
     "text": [
      "For the Equally Weighted Portfolio, we obtain the following results:\n",
      "The the sample average excess return of these decile is : 1.00%\n",
      "The the sample corresponding alpha is : 0.39%\n",
      "The the sample corresponding beta is : 0.846\n",
      "For the Value Weighted Portfolio, we obtain the following results:\n",
      "The the sample average excess return of these decile is : 0.62%\n",
      "The the sample corresponding alpha is : 0.03%\n",
      "The the sample corresponding beta is : 0.7977\n"
     ]
    }
   ],
   "source": [
    "print(\"For the Equally Weighted Portfolio, we obtain the following results:\")\n",
    "a,b,c = equally_weighted(group7)\n",
    "Avg_Returns_EW.append(a)\n",
    "Alphas_EW.append(b)\n",
    "Betas_EW.append(c)\n",
    "\n",
    "print(\"For the Value Weighted Portfolio, we obtain the following results:\")\n",
    "a,b,c = value_weighted(group7)\n",
    "Avg_Returns_VW.append(a)\n",
    "Alphas_VW.append(b)\n",
    "Betas_VW.append(c)"
   ]
  },
  {
   "cell_type": "markdown",
   "id": "978c19d3",
   "metadata": {},
   "source": [
    "# b_Decile 8"
   ]
  },
  {
   "cell_type": "code",
   "execution_count": 23,
   "id": "9c2c3f17",
   "metadata": {},
   "outputs": [
    {
     "name": "stdout",
     "output_type": "stream",
     "text": [
      "For the Equally Weighted Portfolio, we obtain the following results:\n",
      "The the sample average excess return of these decile is : 1.00%\n",
      "The the sample corresponding alpha is : 0.39%\n",
      "The the sample corresponding beta is : 0.8475\n",
      "For the Value Weighted Portfolio, we obtain the following results:\n",
      "The the sample average excess return of these decile is : 0.67%\n",
      "The the sample corresponding alpha is : -0.02%\n",
      "The the sample corresponding beta is : 0.9253\n"
     ]
    }
   ],
   "source": [
    "print(\"For the Equally Weighted Portfolio, we obtain the following results:\")\n",
    "a,b,c = equally_weighted(group8)\n",
    "Avg_Returns_EW.append(a)\n",
    "Alphas_EW.append(b)\n",
    "Betas_EW.append(c)\n",
    "\n",
    "print(\"For the Value Weighted Portfolio, we obtain the following results:\")\n",
    "a,b,c = value_weighted(group8)\n",
    "Avg_Returns_VW.append(a)\n",
    "Alphas_VW.append(b)\n",
    "Betas_VW.append(c)"
   ]
  },
  {
   "cell_type": "markdown",
   "id": "c6e61db7",
   "metadata": {},
   "source": [
    "# b_Decile 9"
   ]
  },
  {
   "cell_type": "code",
   "execution_count": 24,
   "id": "4ade2ff6",
   "metadata": {},
   "outputs": [
    {
     "name": "stdout",
     "output_type": "stream",
     "text": [
      "For the Equally Weighted Portfolio, we obtain the following results:\n",
      "The the sample average excess return of these decile is : 1.06%\n",
      "The the sample corresponding alpha is : 0.46%\n",
      "The the sample corresponding beta is : 0.8307\n",
      "For the Value Weighted Portfolio, we obtain the following results:\n",
      "The the sample average excess return of these decile is : 0.83%\n",
      "The the sample corresponding alpha is : 0.18%\n",
      "The the sample corresponding beta is : 0.8836\n"
     ]
    }
   ],
   "source": [
    "print(\"For the Equally Weighted Portfolio, we obtain the following results:\")\n",
    "a,b,c = equally_weighted(group9)\n",
    "Avg_Returns_EW.append(a)\n",
    "Alphas_EW.append(b)\n",
    "Betas_EW.append(c)\n",
    "\n",
    "print(\"For the Value Weighted Portfolio, we obtain the following results:\")\n",
    "a,b,c = value_weighted(group9)\n",
    "Avg_Returns_VW.append(a)\n",
    "Alphas_VW.append(b)\n",
    "Betas_VW.append(c)"
   ]
  },
  {
   "cell_type": "markdown",
   "id": "9e5b095b",
   "metadata": {},
   "source": [
    "# b_Decile 10"
   ]
  },
  {
   "cell_type": "code",
   "execution_count": 25,
   "id": "b07dda4c",
   "metadata": {},
   "outputs": [
    {
     "name": "stdout",
     "output_type": "stream",
     "text": [
      "For the Equally Weighted Portfolio, we obtain the following results:\n",
      "The the sample average excess return of these decile is : 0.98%\n",
      "The the sample corresponding alpha is : 0.36%\n",
      "The the sample corresponding beta is : 0.861\n",
      "For the Value Weighted Portfolio, we obtain the following results:\n",
      "The the sample average excess return of these decile is : 0.77%\n",
      "The the sample corresponding alpha is : 0.21%\n",
      "The the sample corresponding beta is : 0.7641\n"
     ]
    }
   ],
   "source": [
    "print(\"For the Equally Weighted Portfolio, we obtain the following results:\")\n",
    "a,b,c = equally_weighted(group10)\n",
    "Avg_Returns_EW.append(a)\n",
    "Alphas_EW.append(b)\n",
    "Betas_EW.append(c)\n",
    "\n",
    "print(\"For the Value Weighted Portfolio, we obtain the following results:\")\n",
    "a,b,c = value_weighted(group10)\n",
    "Avg_Returns_VW.append(a)\n",
    "Alphas_VW.append(b)\n",
    "Betas_VW.append(c)"
   ]
  },
  {
   "cell_type": "markdown",
   "id": "d0ee02aa",
   "metadata": {},
   "source": [
    "# Plot the Equally Weighted Results"
   ]
  },
  {
   "cell_type": "code",
   "execution_count": 26,
   "id": "b92e812b",
   "metadata": {},
   "outputs": [
    {
     "data": {
      "image/png": "[encoded data removed]",
      "text/plain": [
       "<Figure size 720x360 with 1 Axes>"
      ]
     },
     "metadata": {
      "needs_background": "light"
     },
     "output_type": "display_data"
    },
    {
     "data": {
      "image/png": "[encoded data removed]",
      "text/plain": [
       "<Figure size 720x360 with 1 Axes>"
      ]
     },
     "metadata": {
      "needs_background": "light"
     },
     "output_type": "display_data"
    },
    {
     "data": {
      "image/png": "[encoded data removed]",
      "text/plain": [
       "<Figure size 720x360 with 1 Axes>"
      ]
     },
     "metadata": {
      "needs_background": "light"
     },
     "output_type": "display_data"
    }
   ],
   "source": [
    "plt.figure(figsize=(10,5))\n",
    "plt.bar(np.arange(1,11), Avg_Returns_EW )\n",
    "plt.title(\"Average Excess Return\")\n",
    "plt.grid()\n",
    "\n",
    "\n",
    "plt.figure(figsize=(10,5))\n",
    "plt.bar(np.arange(1,11), Alphas_EW )\n",
    "plt.title(\"Alphas\")\n",
    "plt.grid()\n",
    "\n",
    "\n",
    "plt.figure(figsize=(10,5))\n",
    "plt.bar(np.arange(1,11), Betas_EW )\n",
    "plt.title(\"Betas\")\n",
    "plt.grid()"
   ]
  },
  {
   "cell_type": "markdown",
   "id": "1b5870be",
   "metadata": {},
   "source": [
    "# Plot the Value Weighted Results"
   ]
  },
  {
   "cell_type": "code",
   "execution_count": 27,
   "id": "5c5e0b23",
   "metadata": {},
   "outputs": [
    {
     "data": {
      "image/png": "[encoded data removed]",
      "text/plain": [
       "<Figure size 720x360 with 1 Axes>"
      ]
     },
     "metadata": {
      "needs_background": "light"
     },
     "output_type": "display_data"
    },
    {
     "data": {
      "image/png": "[encoded data removed]",
      "text/plain": [
       "<Figure size 720x360 with 1 Axes>"
      ]
     },
     "metadata": {
      "needs_background": "light"
     },
     "output_type": "display_data"
    },
    {
     "data": {
      "image/png": "[encoded data removed]",
      "text/plain": [
       "<Figure size 720x360 with 1 Axes>"
      ]
     },
     "metadata": {
      "needs_background": "light"
     },
     "output_type": "display_data"
    }
   ],
   "source": [
    "plt.figure(figsize=(10,5))\n",
    "plt.bar(np.arange(1,11), Avg_Returns_VW )\n",
    "plt.title(\"Average Excess Return\")\n",
    "plt.grid()\n",
    "\n",
    "\n",
    "plt.figure(figsize=(10,5))\n",
    "plt.bar(np.arange(1,11), Alphas_VW )\n",
    "plt.title(\"Alphas\")\n",
    "plt.grid()\n",
    "\n",
    "\n",
    "plt.figure(figsize=(10,5))\n",
    "plt.bar(np.arange(1,11), Betas_VW )\n",
    "plt.title(\"Betas\")\n",
    "plt.grid()"
   ]
  },
  {
   "cell_type": "markdown",
   "id": "794b974f",
   "metadata": {},
   "source": [
    "# Question c)"
   ]
  },
  {
   "cell_type": "markdown",
   "id": "832f1c17",
   "metadata": {},
   "source": [
    "\n",
    "\n",
    "### Equally Weighted Portfolio\n",
    "As we can see above, the average excess return is not correlated with the market capitalization for the equally weighted portfolio, since the values is always close to 1%.\n",
    "\n",
    "We can see from the last question that the alphas are positive and significant for all deciles. Indeed, they represent between 15% and 45% of the excess premium for each decile. It means that the CAPM tend to undervalued the return of these stocks. Hence the CAPM does not explain the behavior of the stocks \n",
    "\n",
    "### Value Weightted Portfolio\n",
    "As we can see above, the Average Excess Return is correlated to the market capitalization for value weighted porfolio. Since it increases when the market capitalization is increasing.\n",
    "\n",
    "We can see from the last question that the alphas are stronlgy negative from decile 1 to 3 and positive from decile 9 to 10. For decile 4 to decile 8, the corresponding alpha are very close to zero. Then the CAPM explains well the return of the stocks for stocks with a market capitalization which are in decile 4 to 8. For the other decile, the alphas is like for the equally weighted case far from zero. For decile 9 and 10, the CAPM tends to undervaled the stocks. But for the 3 first decile the CAPM tends to overvalued the stocks. For these two case the CAPM does not explain well these stocks. However, CAPM results were better for the value weighted portfolio than for the equally weighted portfolio."
   ]
  },
  {
   "cell_type": "markdown",
   "id": "a32170b2",
   "metadata": {},
   "source": [
    "# Question d)"
   ]
  },
  {
   "cell_type": "code",
   "execution_count": 28,
   "id": "b0345916",
   "metadata": {},
   "outputs": [],
   "source": [
    "group1_list = pd.DataFrame(index =stocks_ret_matrix.index[1:], columns = np.arange(33))\n",
    "group2_list = pd.DataFrame(index =stocks_ret_matrix.index[1:], columns = np.arange(33))\n",
    "group3_list = pd.DataFrame(index =stocks_ret_matrix.index[1:], columns = np.arange(33))\n",
    "group4_list = pd.DataFrame(index =stocks_ret_matrix.index[1:], columns = np.arange(33))\n",
    "group5_list = pd.DataFrame(index =stocks_ret_matrix.index[1:], columns = np.arange(33))\n",
    "group6_list = pd.DataFrame(index =stocks_ret_matrix.index[1:], columns = np.arange(33))\n",
    "group7_list = pd.DataFrame(index =stocks_ret_matrix.index[1:], columns = np.arange(33))\n",
    "group8_list = pd.DataFrame(index =stocks_ret_matrix.index[1:], columns = np.arange(33))\n",
    "group9_list = pd.DataFrame(index =stocks_ret_matrix.index[1:], columns = np.arange(32))\n",
    "group10_list = pd.DataFrame(index =stocks_ret_matrix.index[1:], columns = np.arange(32))\n",
    "for date in group1_list.index:\n",
    "    temp =stocks_returns_raw_clean[stocks_returns_raw_clean[\"date\"]==(date-1)]\n",
    "    temp = temp.sort_values('Market Cap' , ascending = True)[\"permno\"].to_numpy()\n",
    "    group1_list.loc[date] = temp[:33]\n",
    "    group2_list.loc[date] = temp[33:66]\n",
    "    group3_list.loc[date] = temp[66:99]\n",
    "    group4_list.loc[date] = temp[99:132]\n",
    "    group5_list.loc[date] = temp[132:165]\n",
    "    group6_list.loc[date] = temp[165:198]\n",
    "    group7_list.loc[date] = temp[198:231]\n",
    "    group8_list.loc[date] = temp[231:264]\n",
    "    group9_list.loc[date] = temp[264:296]\n",
    "    group10_list.loc[date] = temp[296:]\n",
    "market_caps = stocks_returns_raw_clean.set_index(\"permno\")"
   ]
  },
  {
   "cell_type": "code",
   "execution_count": 29,
   "id": "b9c1b6a9",
   "metadata": {},
   "outputs": [],
   "source": [
    "def equally_weighted_without_bias(group_list):\n",
    "    #Begin by computing the return at each date\n",
    "    Return = pd.DataFrame(index = risk_free.index[1:])\n",
    "    ret = pd.DataFrame(index = risk_free.index[1:], columns = np.arange(group_list.shape[1]))\n",
    "    for date in Return.index:\n",
    "        ret.loc[date] = stocks_ret_matrix.loc[date,group_list.loc[date]].to_numpy()\n",
    "    Return[\"Return\"] = ret.mean(axis = 1)\n",
    "    Return[\"Excess Return\"] = Return[\"Return\"] - stocks_ret_matrix[\"risk_free\"]\n",
    "    Return[\"Market Premium\"] = stocks_ret_matrix[\"vwretd\"] - stocks_ret_matrix[\"risk_free\"]\n",
    "    avg_ret = Return[\"Excess Return\"].mean()\n",
    "    model = sm.OLS(Return[\"Excess Return\"] , sm.add_constant(Return[\"Market Premium\"]) )\n",
    "    results = model.fit()\n",
    "    alpha = results.params[\"const\"]\n",
    "    beta = results.params[\"Market Premium\"]\n",
    "    return avg_ret,alpha,beta"
   ]
  },
  {
   "cell_type": "code",
   "execution_count": 30,
   "id": "529ce8fb",
   "metadata": {},
   "outputs": [],
   "source": [
    "def value_weighted_without_bias(group_list):\n",
    "    #Begin by computing the return at each date\n",
    "    Return = pd.DataFrame(index = risk_free.index[1:], columns = [\"Return\"],dtype=float)\n",
    "    for date in tqdm(Return.index, desc = \"compute vw retrun\"):\n",
    "        mkt_cap = market_caps.loc[group_list.loc[date]]\n",
    "        mkt_cap = mkt_cap[mkt_cap[\"date\"] == date-1][\"Market Cap\"]\n",
    "        weight = mkt_cap / mkt_cap.sum()\n",
    "        Return.loc[date, \"Return\"] = (stocks_ret_matrix.loc[date,group_list.loc[date]]* weight).sum()\n",
    "    Return[\"Excess Return\"] = Return[\"Return\"] - stocks_ret_matrix[\"risk_free\"][1:]\n",
    "    Return[\"Market Premium\"] = stocks_ret_matrix[\"vwretd\"][1:] - stocks_ret_matrix[\"risk_free\"][1:]\n",
    "    avg_ret = Return[\"Excess Return\"].mean()\n",
    "    model = sm.OLS(Return[\"Excess Return\"] , sm.add_constant(Return[\"Market Premium\"]) )\n",
    "    results = model.fit()\n",
    "    results.summary()\n",
    "    alpha = results.params[\"const\"]\n",
    "    beta = results.params[\"Market Premium\"]    \n",
    "    return avg_ret,alpha,beta"
   ]
  },
  {
   "cell_type": "code",
   "execution_count": 31,
   "id": "3526d226",
   "metadata": {},
   "outputs": [
    {
     "data": {
      "application/vnd.jupyter.widget-view+json": {
       "model_id": "14900c7c2d0a4cbb95897af8bda6bf62",
       "version_major": 2,
       "version_minor": 0
      },
      "text/plain": [
       "group:   0%|          | 0/10 [00:00<?, ?it/s]"
      ]
     },
     "metadata": {},
     "output_type": "display_data"
    },
    {
     "data": {
      "application/vnd.jupyter.widget-view+json": {
       "model_id": "692e7037a9bf4e9c86adf797608729de",
       "version_major": 2,
       "version_minor": 0
      },
      "text/plain": [
       "compute vw retrun:   0%|          | 0/383 [00:00<?, ?it/s]"
      ]
     },
     "metadata": {},
     "output_type": "display_data"
    },
    {
     "data": {
      "application/vnd.jupyter.widget-view+json": {
       "model_id": "38a519bed80b4fe7ba42416da1d2d8d7",
       "version_major": 2,
       "version_minor": 0
      },
      "text/plain": [
       "compute vw retrun:   0%|          | 0/383 [00:00<?, ?it/s]"
      ]
     },
     "metadata": {},
     "output_type": "display_data"
    },
    {
     "data": {
      "application/vnd.jupyter.widget-view+json": {
       "model_id": "6a4d2eb5ab384a7aaab27b988550d937",
       "version_major": 2,
       "version_minor": 0
      },
      "text/plain": [
       "compute vw retrun:   0%|          | 0/383 [00:00<?, ?it/s]"
      ]
     },
     "metadata": {},
     "output_type": "display_data"
    },
    {
     "data": {
      "application/vnd.jupyter.widget-view+json": {
       "model_id": "752dc5ab49f8415ba3416c641cbe7bce",
       "version_major": 2,
       "version_minor": 0
      },
      "text/plain": [
       "compute vw retrun:   0%|          | 0/383 [00:00<?, ?it/s]"
      ]
     },
     "metadata": {},
     "output_type": "display_data"
    },
    {
     "data": {
      "application/vnd.jupyter.widget-view+json": {
       "model_id": "d2f4effdbd3e429bb4f04e0308160fcc",
       "version_major": 2,
       "version_minor": 0
      },
      "text/plain": [
       "compute vw retrun:   0%|          | 0/383 [00:00<?, ?it/s]"
      ]
     },
     "metadata": {},
     "output_type": "display_data"
    },
    {
     "data": {
      "application/vnd.jupyter.widget-view+json": {
       "model_id": "3b669775240b4de880e9dec8f570d941",
       "version_major": 2,
       "version_minor": 0
      },
      "text/plain": [
       "compute vw retrun:   0%|          | 0/383 [00:00<?, ?it/s]"
      ]
     },
     "metadata": {},
     "output_type": "display_data"
    },
    {
     "data": {
      "application/vnd.jupyter.widget-view+json": {
       "model_id": "513492de85964daaa6390d280e1e0467",
       "version_major": 2,
       "version_minor": 0
      },
      "text/plain": [
       "compute vw retrun:   0%|          | 0/383 [00:00<?, ?it/s]"
      ]
     },
     "metadata": {},
     "output_type": "display_data"
    },
    {
     "data": {
      "application/vnd.jupyter.widget-view+json": {
       "model_id": "a3e4791fad0f405ab0f55231004636ef",
       "version_major": 2,
       "version_minor": 0
      },
      "text/plain": [
       "compute vw retrun:   0%|          | 0/383 [00:00<?, ?it/s]"
      ]
     },
     "metadata": {},
     "output_type": "display_data"
    },
    {
     "data": {
      "application/vnd.jupyter.widget-view+json": {
       "model_id": "d11e26ea2fe54092b4eebde57a999f0c",
       "version_major": 2,
       "version_minor": 0
      },
      "text/plain": [
       "compute vw retrun:   0%|          | 0/383 [00:00<?, ?it/s]"
      ]
     },
     "metadata": {},
     "output_type": "display_data"
    },
    {
     "data": {
      "application/vnd.jupyter.widget-view+json": {
       "model_id": "805e357c227c4fca8b160c0a5eeb19e3",
       "version_major": 2,
       "version_minor": 0
      },
      "text/plain": [
       "compute vw retrun:   0%|          | 0/383 [00:00<?, ?it/s]"
      ]
     },
     "metadata": {},
     "output_type": "display_data"
    }
   ],
   "source": [
    "group_lists = [group1_list, group2_list, group3_list, group4_list, group5_list, group6_list, group7_list\n",
    "              ,group8_list, group9_list, group10_list]\n",
    "Avg_Returns_EW_without_bias = []\n",
    "Avg_Returns_VW_without_bias = []\n",
    "alpha_EW_without_bias = []\n",
    "alpha_VW_without_bias = []\n",
    "beta_EW_without_bias = []\n",
    "beta_VW_without_bias = []\n",
    "\n",
    "for group_list in tqdm(group_lists, desc = \"group\"):\n",
    "    avg_ret, alpha, beta = equally_weighted_without_bias(group_list)\n",
    "    Avg_Returns_EW_without_bias.append(avg_ret)\n",
    "    alpha_EW_without_bias.append(alpha)\n",
    "    beta_EW_without_bias.append(beta)\n",
    "    avg_ret2,alpha2,beta2 = value_weighted_without_bias(group_list)\n",
    "    Avg_Returns_VW_without_bias.append(avg_ret2)\n",
    "    alpha_VW_without_bias.append(alpha2)\n",
    "    beta_VW_without_bias.append(beta2)\n",
    "    \n",
    "\n"
   ]
  },
  {
   "cell_type": "markdown",
   "id": "2b014ea5",
   "metadata": {},
   "source": [
    "# Equally Weighted Analysis"
   ]
  },
  {
   "cell_type": "code",
   "execution_count": 32,
   "id": "66fa2e50",
   "metadata": {},
   "outputs": [
    {
     "data": {
      "image/png": "[encoded data removed]",
      "text/plain": [
       "<Figure size 720x360 with 1 Axes>"
      ]
     },
     "metadata": {
      "needs_background": "light"
     },
     "output_type": "display_data"
    },
    {
     "data": {
      "image/png": "[encoded data removed]",
      "text/plain": [
       "<Figure size 720x360 with 1 Axes>"
      ]
     },
     "metadata": {
      "needs_background": "light"
     },
     "output_type": "display_data"
    },
    {
     "data": {
      "image/png": "[encoded data removed]",
      "text/plain": [
       "<Figure size 720x360 with 1 Axes>"
      ]
     },
     "metadata": {
      "needs_background": "light"
     },
     "output_type": "display_data"
    }
   ],
   "source": [
    "plt.figure(figsize=(10,5))\n",
    "plt.bar(np.arange(1,11), Avg_Returns_EW_without_bias )\n",
    "plt.title(\"Average Excess Return\")\n",
    "plt.grid()\n",
    "\n",
    "\n",
    "plt.figure(figsize=(10,5))\n",
    "plt.bar(np.arange(1,11), alpha_EW_without_bias )\n",
    "plt.title(\"Alphas\")\n",
    "plt.grid()\n",
    "\n",
    "\n",
    "plt.figure(figsize=(10,5))\n",
    "plt.bar(np.arange(1,11), beta_EW_without_bias )\n",
    "plt.title(\"Betas\")\n",
    "plt.grid()"
   ]
  },
  {
   "cell_type": "markdown",
   "id": "18c6d380",
   "metadata": {},
   "source": [
    "As we can see on the figure above, the average excess premium is now negatively correlated to the market capitalization. In a sense, it is what we must expect since stocks with little market capitalization face liquidity premium. In order to put money on these stocks, we expect an higher average return.\n",
    "\n",
    "For these portfolios, it seems that the lower is the market capitalization, the less the CAPM could explain the expected return since the alphas are bigger for smaller market capitalization. However, we can not say that the CAPM explain well the expected return of stocks with a high market capitalization since the alpha still correspond approximately to 25% of the expected return."
   ]
  },
  {
   "cell_type": "markdown",
   "id": "052af7e8",
   "metadata": {},
   "source": [
    "# Value Weighted Analysis"
   ]
  },
  {
   "cell_type": "code",
   "execution_count": 33,
   "id": "42d4dafc",
   "metadata": {},
   "outputs": [
    {
     "data": {
      "image/png": "[encoded data removed]",
      "text/plain": [
       "<Figure size 720x360 with 1 Axes>"
      ]
     },
     "metadata": {
      "needs_background": "light"
     },
     "output_type": "display_data"
    },
    {
     "data": {
      "image/png": "[encoded data removed]",
      "text/plain": [
       "<Figure size 720x360 with 1 Axes>"
      ]
     },
     "metadata": {
      "needs_background": "light"
     },
     "output_type": "display_data"
    },
    {
     "data": {
      "image/png": "[encoded data removed]",
      "text/plain": [
       "<Figure size 720x360 with 1 Axes>"
      ]
     },
     "metadata": {
      "needs_background": "light"
     },
     "output_type": "display_data"
    }
   ],
   "source": [
    "plt.figure(figsize=(10,5))\n",
    "plt.bar(np.arange(1,11), Avg_Returns_VW_without_bias )\n",
    "plt.title(\"Average Excess Return\")\n",
    "plt.grid()\n",
    "\n",
    "\n",
    "plt.figure(figsize=(10,5))\n",
    "plt.bar(np.arange(1,11), alpha_VW_without_bias )\n",
    "plt.title(\"Alphas\")\n",
    "plt.grid()\n",
    "\n",
    "\n",
    "plt.figure(figsize=(10,5))\n",
    "plt.bar(np.arange(1,11), beta_VW_without_bias )\n",
    "plt.title(\"Betas\")\n",
    "plt.grid()"
   ]
  },
  {
   "cell_type": "markdown",
   "id": "7312e2f0",
   "metadata": {},
   "source": [
    "As we can see on the figure above, the average excess premium is now negatively correlated to the market capitalization. In a sense, it is what we must expect since stocks with little market capitalization face liquidity premium. In order to put money on these stocks, we expect an higher average return.\n",
    "\n",
    "For these portfolios, it seems that the lower is the market capitalization, the less the CAPM could explain the expected return since the alphas are bigger for smaller market capitalization. However, we can not say that the CAPM explain well the expected return of stocks with a high market capitalization since the alpha still correspond approximately to 15% of the expected return."
   ]
  },
  {
   "cell_type": "markdown",
   "id": "e669674a",
   "metadata": {},
   "source": [
    "## Difference with \"Look-ahead bias\""
   ]
  },
  {
   "cell_type": "markdown",
   "id": "38a5306f",
   "metadata": {},
   "source": [
    "The Look ahead bias bring us information from big market capitaliation stocks performing well through the period considered as a all. With this method,some medium stocks at the begining of the period that have performing bad through the period will be present in the first deciles. On the other hand some medium stocks at the begining of the period that have performing very well will be present in the last deciles. Hence the average excess return of the highest market capitalization must be overvalued and the average excess return of the lowest market capitalization must be undervalued. This bias is what we have observed with the data in the first part of the exercise. The method implemented in the last question make sure to remove this bias since we are creating the decile based on the lags market capitalization."
   ]
  }
 ],
 "metadata": {
  "kernelspec": {
   "display_name": "Python 3 (ipykernel)",
   "language": "python",
   "name": "python3"
  },
  "language_info": {
   "codemirror_mode": {
    "name": "ipython",
    "version": 3
   },
   "file_extension": ".py",
   "mimetype": "text/x-python",
   "name": "python",
   "nbconvert_exporter": "python",
   "pygments_lexer": "ipython3",
   "version": "3.7.11"
  }
 },
 "nbformat": 4,
 "nbformat_minor": 5
}
