{
 "cells": [
  {
   "cell_type": "markdown",
   "metadata": {},
   "source": [
    "# Question 1)"
   ]
  },
  {
   "cell_type": "code",
   "execution_count": 1,
   "metadata": {},
   "outputs": [],
   "source": [
    "import numpy as np\n",
    "import copy\n",
    "import pandas as pd\n",
    "from numpy.linalg import inv"
   ]
  },
  {
   "cell_type": "code",
   "execution_count": 2,
   "metadata": {},
   "outputs": [
    {
     "name": "stdout",
     "output_type": "stream",
     "text": [
      "[[1.    0.488 0.478 0.515 0.439 0.512 0.491]\n",
      " [0.488 1.    0.664 0.655 0.31  0.608 0.779]\n",
      " [0.478 0.664 1.    0.861 0.355 0.783 0.668]\n",
      " [0.515 0.655 0.861 1.    0.354 0.777 0.653]\n",
      " [0.439 0.31  0.355 0.354 1.    0.405 0.306]\n",
      " [0.512 0.608 0.783 0.777 0.405 1.    0.652]\n",
      " [0.491 0.779 0.668 0.653 0.306 0.652 1.   ]]\n"
     ]
    }
   ],
   "source": [
    "correl = np.matrix('1 0 0 0 0 0 0;.488 1 0 0 0 0 0;.478 .664 1 0 0 0 0;.515 .655 .861 1 0 0 0;.439 .31 .355 .354 1 0 0;.512 .608 .783 .777 .405 1 0; .491 .779 .668 .653 .306 .652 1')\n",
    "correl = correl + np.transpose(correl) - np.identity(7)\n",
    "sigma = np.matrix([.16 , .203 , .248 , .271 , .21 , .2 , .187])\n",
    "weq = np.matrix([.016 , .022 , .052 , .055 , .116 , .124 , .615])\n",
    "RP = np.matrix([.039 , .069 , .084 , .09 , .043 , .068 , .076])\n",
    "print(correl)"
   ]
  },
  {
   "cell_type": "code",
   "execution_count": 3,
   "metadata": {},
   "outputs": [],
   "source": [
    "gamma = 3.5\n",
    "names = ['Australia' , 'Canada' , 'France' , 'Germany' , 'Japan' , 'UK' , 'USA']\n",
    "#Compute the covariance matrix\n",
    "cov_mat = np.multiply(np.multiply(sigma.T,correl),sigma)\n"
   ]
  },
  {
   "cell_type": "code",
   "execution_count": 4,
   "metadata": {},
   "outputs": [
    {
     "data": {
      "text/html": [
       "<div>\n",
       "<style scoped>\n",
       "    .dataframe tbody tr th:only-of-type {\n",
       "        vertical-align: middle;\n",
       "    }\n",
       "\n",
       "    .dataframe tbody tr th {\n",
       "        vertical-align: top;\n",
       "    }\n",
       "\n",
       "    .dataframe thead th {\n",
       "        text-align: right;\n",
       "    }\n",
       "</style>\n",
       "<table border=\"1\" class=\"dataframe\">\n",
       "  <thead>\n",
       "    <tr style=\"text-align: right;\">\n",
       "      <th></th>\n",
       "      <th>mu_0</th>\n",
       "    </tr>\n",
       "  </thead>\n",
       "  <tbody>\n",
       "    <tr>\n",
       "      <th>Australia</th>\n",
       "      <td>0.055126</td>\n",
       "    </tr>\n",
       "    <tr>\n",
       "      <th>Canada</th>\n",
       "      <td>0.096813</td>\n",
       "    </tr>\n",
       "    <tr>\n",
       "      <th>France</th>\n",
       "      <td>0.117013</td>\n",
       "    </tr>\n",
       "    <tr>\n",
       "      <th>Germany</th>\n",
       "      <td>0.126381</td>\n",
       "    </tr>\n",
       "    <tr>\n",
       "      <th>Japan</th>\n",
       "      <td>0.060239</td>\n",
       "    </tr>\n",
       "    <tr>\n",
       "      <th>UK</th>\n",
       "      <td>0.094748</td>\n",
       "    </tr>\n",
       "    <tr>\n",
       "      <th>USA</th>\n",
       "      <td>0.105841</td>\n",
       "    </tr>\n",
       "  </tbody>\n",
       "</table>\n",
       "</div>"
      ],
      "text/plain": [
       "               mu_0\n",
       "Australia  0.055126\n",
       "Canada     0.096813\n",
       "France     0.117013\n",
       "Germany    0.126381\n",
       "Japan      0.060239\n",
       "UK         0.094748\n",
       "USA        0.105841"
      ]
     },
     "execution_count": 4,
     "metadata": {},
     "output_type": "execute_result"
    }
   ],
   "source": [
    "#Calculate the implied mean returns\n",
    "mu_0 = gamma *  weq @ cov_mat\n",
    "pd.DataFrame(mu_0.T,index = names,columns = ['mu_0'])"
   ]
  },
  {
   "cell_type": "markdown",
   "metadata": {},
   "source": [
    "# Question 2)"
   ]
  },
  {
   "cell_type": "markdown",
   "metadata": {},
   "source": [
    "We use the formula of the course where the covariance matrix is given by $\\Sigma+\\tau \\cdot \\Sigma$ as follows :\n",
    "\n",
    "$$w_0=(\\gamma\\cdot (\\Sigma + \\tau \\cdot \\Sigma))^{-1}\\cdot \\mu_0$$\n",
    "$$w_0=(\\gamma \\cdot \\Sigma)^{-1} \\cdot (1+ \\tau)^{-1} \\cdot \\mu_0$$\n",
    "\n",
    "We recognize the expression of $w_{eq}$ we derivate in the previous question, by consequence we obtain :\n",
    "\n",
    "$$w_0=w_{eq} \\cdot (1+\\tau)^{-1}$$\n",
    "\n",
    "$$w_0=\\boxed{\\frac{w_{eq}}{1+\\tau}}$$\n",
    "\n",
    "The last line gives the expression of the optimal portfolio for the investor using a point of view"
   ]
  },
  {
   "cell_type": "code",
   "execution_count": 5,
   "metadata": {},
   "outputs": [],
   "source": [
    "gamma=2\n",
    "tau=0.03\n",
    "w0=weq/(1+tau)"
   ]
  },
  {
   "cell_type": "code",
   "execution_count": 6,
   "metadata": {},
   "outputs": [
    {
     "name": "stdout",
     "output_type": "stream",
     "text": [
      "Optimal weights portfolio are :\n",
      "[[0.01553398 0.02135922 0.05048544 0.05339806 0.11262136 0.12038835\n",
      "  0.59708738]]\n"
     ]
    }
   ],
   "source": [
    "print('Optimal weights portfolio are :')\n",
    "print(w0)\n"
   ]
  },
  {
   "cell_type": "code",
   "execution_count": 12,
   "metadata": {},
   "outputs": [],
   "source": [
    "#we calculate the difference between both results\n",
    "difference=w0-weq\n",
    "\n",
    "\n",
    "df = pd.DataFrame(index = names)\n",
    "df['w0']=w0.T\n",
    "df['weq']=weq.T\n",
    "df['w0-weq']=w0.T-weq.T"
   ]
  },
  {
   "cell_type": "markdown",
   "metadata": {},
   "source": [
    "# Question 3)"
   ]
  },
  {
   "cell_type": "markdown",
   "metadata": {},
   "source": [
    "We derive the two sets of equations for $\\overline{\\Omega}$ and $\\overline{\\mu}$:\n",
    "\n",
    "$$\\overline{\\mu}=\\mu_0+\\Omega\\cdot P^T \\cdot (P\\cdot \\Omega_0 \\cdot P^T+\\Omega)^{-1}\\cdot (q-P\\cdot \\mu_0)$$\n",
    "$$\\overline{\\mu}=(P^T\\cdot \\Omega_0\\cdot P+\\Omega)^{-1}\\cdot (\\mu_0\\cdot(P\\cdot \\Omega_0\\cdot, P^T+\\Omega-P\\cdot \\Omega_0\\cdot P^T)+\\Omega\\cdot P^T\\cdot q)$$\n",
    "$$\\overline{\\mu}=(P^T\\cdot \\Omega_0\\cdot P+\\Omega)^{-1}\\cdot(\\mu_0\\cdot\\Omega+P^T\\cdot \\Omega_0\\cdot q)$$\n",
    "    $$\\boxed{\\overline{\\mu}=(P^T\\cdot \\Omega^{-1}\\cdot P+ \\Omega_{0}^{-1})^{-1}\\cdot (\\Omega_0^{-1}\\cdot \\mu_0+P^T\\cdot \\Omega^{-1}\\cdot q)}$$\n",
    "    \n",
    "And,\n",
    "\n",
    "$$\\overline{\\Omega}=\\Omega_0-\\Omega_0\\cdot P^T \\cdot (P \\cdot \\Omega_0\\cdot P^T+\\Omega)^{-1}\\cdot P \\cdot \\Omega_0$$\n",
    "$$\\overline{\\Omega}=\\Omega_0\\cdot(P\\cdot \\Omega_0\\cdot P^T+\\Omega)\\cdot (P\\cdot \\Omega_0\\cdot P^T+\\Omega)^{-1}-\\Omega_0\\cdot P^T\\cdot (P\\cdot \\Omega_0\\cdot P^T+\\Omega)^{-1}\\cdot P \\cdot \\Omega_0$$\n",
    "$$\\Omega_0$$\n",
    "$$\\overline{\\Omega}=\\Omega_0\\cdot (P\\cdot \\Omega_0\\cdot P^T+\\Omega)^{-1}\\cdot \\Omega$$\n",
    "$$\\boxed{\\overline{\\Omega}=(P^T\\cdot \\Omega^{-1}\\cdot P+\\Omega_{0}^{-1})}$$"
   ]
  },
  {
   "cell_type": "markdown",
   "metadata": {},
   "source": [
    "We create the variables we will use in the model"
   ]
  },
  {
   "cell_type": "code",
   "execution_count": 8,
   "metadata": {},
   "outputs": [
    {
     "name": "stdout",
     "output_type": "stream",
     "text": [
      "[[0.00074991 0.0004366  0.00052704 0.00057961 0.00043257 0.00048305\n",
      "  0.00042338]\n",
      " [0.0004366  0.00106843 0.0009148  0.00091297 0.00036991 0.00072456\n",
      "  0.00090975]\n",
      " [0.00052704 0.0009148  0.00174769 0.00152578 0.00053173 0.00114539\n",
      "  0.00088756]\n",
      " [0.00057961 0.00091297 0.00152578 0.00174426 0.00055638 0.00122042\n",
      "  0.00088753]\n",
      " [0.00043257 0.00036991 0.00053173 0.00055638 0.00131722 0.00050578\n",
      "  0.00035465]\n",
      " [0.00048305 0.00072456 0.00114539 0.00122042 0.00050578 0.00119597\n",
      "  0.00072183]\n",
      " [0.00042338 0.00090975 0.00088756 0.00088753 0.00035465 0.00072183\n",
      "  0.0009898 ]]\n"
     ]
    }
   ],
   "source": [
    "P=np.array([[0,0,-0.31,1,0,-0.69,0],[0,1,0,0,0,0,-1]]).T\n",
    "Omega=np.array([[0.025*tau,0],[0,0.015*tau]])\n",
    "Omega_0=tau*cov_mat\n",
    "q_1=np.array([[0.045],[0.02]])\n",
    "gamma=2\n",
    "Omega_bar=np.linalg.inv(np.dot(np.dot(P,np.linalg.inv(Omega)),P.T)+np.linalg.inv(Omega_0))\n",
    "mu_0=gamma*cov_mat*weq.T\n",
    "q=P.T*mu_0\n",
    "print(Omega_bar)"
   ]
  },
  {
   "cell_type": "code",
   "execution_count": 9,
   "metadata": {},
   "outputs": [
    {
     "data": {
      "text/html": [
       "<div>\n",
       "<style scoped>\n",
       "    .dataframe tbody tr th:only-of-type {\n",
       "        vertical-align: middle;\n",
       "    }\n",
       "\n",
       "    .dataframe tbody tr th {\n",
       "        vertical-align: top;\n",
       "    }\n",
       "\n",
       "    .dataframe thead th {\n",
       "        text-align: right;\n",
       "    }\n",
       "</style>\n",
       "<table border=\"1\" class=\"dataframe\">\n",
       "  <thead>\n",
       "    <tr style=\"text-align: right;\">\n",
       "      <th></th>\n",
       "      <th>New_return</th>\n",
       "    </tr>\n",
       "  </thead>\n",
       "  <tbody>\n",
       "    <tr>\n",
       "      <th>Australia</th>\n",
       "      <td>0.031500</td>\n",
       "    </tr>\n",
       "    <tr>\n",
       "      <th>Canada</th>\n",
       "      <td>0.055322</td>\n",
       "    </tr>\n",
       "    <tr>\n",
       "      <th>France</th>\n",
       "      <td>0.066865</td>\n",
       "    </tr>\n",
       "    <tr>\n",
       "      <th>Germany</th>\n",
       "      <td>0.072218</td>\n",
       "    </tr>\n",
       "    <tr>\n",
       "      <th>Japan</th>\n",
       "      <td>0.034422</td>\n",
       "    </tr>\n",
       "    <tr>\n",
       "      <th>UK</th>\n",
       "      <td>0.054142</td>\n",
       "    </tr>\n",
       "    <tr>\n",
       "      <th>USA</th>\n",
       "      <td>0.060480</td>\n",
       "    </tr>\n",
       "  </tbody>\n",
       "</table>\n",
       "</div>"
      ],
      "text/plain": [
       "           New_return\n",
       "Australia    0.031500\n",
       "Canada       0.055322\n",
       "France       0.066865\n",
       "Germany      0.072218\n",
       "Japan        0.034422\n",
       "UK           0.054142\n",
       "USA          0.060480"
      ]
     },
     "execution_count": 9,
     "metadata": {},
     "output_type": "execute_result"
    }
   ],
   "source": [
    "a=np.dot(np.dot(P,np.linalg.inv(Omega)),P.T)\n",
    "b=np.linalg.inv(Omega_0)\n",
    "c=np.dot(np.linalg.inv(Omega_0),mu_0)\n",
    "d=np.dot(np.dot(P,np.linalg.inv(Omega)),q)\n",
    "mean_return=np.dot(np.linalg.inv(a+b),c+d)\n",
    "pd.DataFrame(mean_return,index = names,columns = ['New_return'])\n"
   ]
  },
  {
   "cell_type": "markdown",
   "metadata": {},
   "source": [
    "# Question 4)"
   ]
  },
  {
   "cell_type": "markdown",
   "metadata": {},
   "source": [
    "The new maximization problem is the following : \n",
    "\n",
    "$$max_{\\omega} \\left ( \\overline{\\mu}\\cdot \\omega - \\frac{\\gamma}{2}\\cdot \\omega' \\cdot (\\Sigma + \\overline{\\Omega})\\cdot \\omega)\\right )$$\n",
    "\n",
    "The first order condition to the function to maximize with regard to $\\omega$ is ;\n",
    "\n",
    "$$\\overline{\\mu}-\\gamma\\cdot\\omega \\cdot (\\Sigma + \\overline{\\Omega})=0$$\n",
    "\n",
    "The optimal unconstrained mean variance portoflio is given by the folloxing weights :\n",
    "\n",
    "$$\\boxed{\\omega^*=\\frac{\\overline{\\mu}}{\\gamma \\cdot (\\Sigma + \\overline{\\Omega})}}$$\n",
    "\n"
   ]
  },
  {
   "cell_type": "markdown",
   "metadata": {},
   "source": [
    "The calculation gives the following weights"
   ]
  },
  {
   "cell_type": "code",
   "execution_count": 13,
   "metadata": {},
   "outputs": [],
   "source": [
    "new_weights=np.dot(mean_return.T,np.linalg.inv(cov_mat+Omega_bar))/gamma\n",
    "df['w*']=new_weights.T\n",
    "df['w*-w0']=new_weights.T-w0.T\n",
    "df['w*-weq']=new_weights.T-weq.T"
   ]
  },
  {
   "cell_type": "markdown",
   "metadata": {},
   "source": [
    "# Question 5)"
   ]
  },
  {
   "cell_type": "markdown",
   "metadata": {},
   "source": [
    "We look for a constant $\\lambda$ and a vector $\\Lambda$ such that :\n",
    "$$w^*=\\lambda \\cdot \\omega_0 +P^T\\cdot \\Lambda $$\n",
    "$$\\gamma^{-1}\\cdot \\hat{\\Sigma}^{-1}\\cdot \\hat{\\mu}=\\lambda \\cdot \\gamma^{-1}\\cdot (\\Omega_0+\\Sigma)^{-1}\\cdot \\mu_0+P^T\\cdot \\Lambda$$\n",
    "\n",
    "We use the definitions of $\\hat{\\mu}$ and $\\hat{\\Sigma}$ to get the following equations :\n",
    "\n",
    "\n",
    "$$\\gamma^{-1}\\cdot (\\Sigma+\\overline{\\Omega})^{-1}\\cdot \\overline{\\mu}=\\lambda \\cdot \\gamma^{-1}\\cdot \\Sigma^{-1}\\cdot (1+\\tau)^{-1}+P^T\\cdot \\Lambda$$\n",
    "\n",
    "This yields to :\n",
    "\n",
    "$$\\gamma^{-1}\\cdot (\\Sigma+(P^T\\cdot \\Omega^{-1}\\cdot P + \\Omega_{0}^{-1})^{-1})^{-1}\\cdot (P^T\\cdot \\Omega^{-1}\\cdot P+\\Omega_{0}^{-1})^{-1}\\cdot (\\Omega_{0}^{-1}\\cdot \\mu_0+P^T\\cdot \\Omega^{-1}\\cdot q)=\\lambda \\cdot \\gamma^{-1}\\cdot \\Sigma^{-1}\\cdot (1+\\tau)^{-1}+P^T\\cdot \\Lambda$$\n",
    "$$\\gamma^{-1}\\cdot (\\Sigma \\cdot (P^T\\cdot \\Omega^{-1}\\cdot P + \\Omega_{0}^{-1})+I_n)^{-1}\\cdot (\\Omega_{0}^{-1}\\cdot \\mu_0+P^T\\cdot \\Omega^{-1}\\cdot q)=\\lambda \\cdot \\gamma^{-1}\\cdot \\Sigma^{-1}\\cdot (1+\\tau)^{-1}+P^T\\cdot \\Lambda$$\n",
    "$$\\Omega_{0}^{-1}\\cdot \\mu_0+P^T\\cdot \\Omega^{-1}\\cdot q=\\lambda \\cdot (\\Sigma \\cdot (P^T\\cdot \\Omega^{-1}\\cdot P+\\Omega_{0}^{-1})+I_n)\\cdot \\Sigma^{-1} \\cdot (1+\\tau)^{-1}+\\gamma\\cdot (\\Sigma \\cdot (P^T\\cdot \\Omega^{-1}\\cdot P +\\Omega_{0}^{-1})+I_n)\\cdot P^T \\cdot \\Lambda$$\n",
    "$$\\Sigma^{-1}\\cdot \\tau^{-1}\\cdot \\mu_0+P^T\\cdot \\Omega ^{-1}\\cdot q = \\lambda \\cdot( \\Sigma \\cdot P^T\\cdot \\Omega^{-1}\\cdot P+\\tau^{-1}+I_n)\\cdot \\Sigma^{-1} \\cdot (1+\\tau)^{-1}+\\gamma\\cdot (\\Sigma \\cdot P^T\\cdot \\Omega^{-1}\\cdot P +\\tau^{-1})+I_n)\\cdot P^T \\cdot \\Lambda$$\n",
    "$$(\\tau^{-1}-\\lambda \\cdot (1+\\tau)^{-1})\\cdot (1+\\tau^{-1})\\cdot \\Sigma^{-1}\\cdot \\mu_0=P^T\\cdot \\Omega^{-1}\\cdot (\\lambda \\cdot (1+\\tau^{-1})\\cdot P \\cdot \\mu_0)-q+\\gamma \\cdot P \\cdot \\Sigma \\cdot P^T\\cdot \\Lambda +\\gamma \\cdot (1+\\tau^{-1})\\cdot \\Omega \\cdot \\Lambda)$$"
   ]
  },
  {
   "cell_type": "markdown",
   "metadata": {},
   "source": [
    "As the form must corespond, we also have :\n",
    "\n",
    "$$0=\\tau^{-1}-\\lambda \\cdot (1+\\tau)^{-1}\\cdot (1+\\tau^{-1})$$\n",
    "$$0=\\lambda \\cdot (1+\\tau)^{-1}\\cdot P \\cdot \\mu_0 - q +\\gamma \\cdot P \\cdot \\Sigma \\cdot P^T \\cdot \\lambda + \\gamma (1+\\tau^{-1})\\cdot \\Omega \\cdot \\Lambda$$\n",
    "\n",
    "\n",
    "The first equation leads to :\n",
    "\n",
    "$$0=\\tau^{-1}-\\lambda \\cdot (1 + \\tau)^{-1}\\cdot (1+\\tau^{-1})$$\n",
    "$$0=-\\lambda \\cdot (1 + \\tau)^{-1} + (1+\\tau^{-1})^{-1}\\cdot \\tau^{-1}$$\n",
    "$$\\boxed{\\lambda=1}$$\n",
    "\n",
    "The second equation gives :\n",
    "\n",
    "$$0=\\lambda \\cdot (1+\\lambda)^{-1}\\cdot P \\cdot \\mu_0-q+\\gamma \\cdot P \\cdot \\Sigma \\cdot P^T \\cdot \\Lambda + \\gamma \\cdot (1+\\tau^{-1})\\cdot \\Omega \\cdot \\Lambda$$\n",
    "$$\\gamma \\cdot (P\\cdot \\Sigma \\cdot P^T +(1+\\tau^{-1})\\cdot \\Omega) \\cdot \\Lambda=q-(1+\\tau)^{-1}\\cdot P \\cdot \\mu_0$$\n",
    "$$\\boxed{\\Lambda = \\gamma^{-1}\\cdot (P\\cdot \\Sigma \\cdot P^T +(1+\\tau^{-1})\\cdot \\Omega)^{-1}\\cdot(q-(1+\\tau)^{-1}\\cdot P \\cdot \\mu_0)}$$"
   ]
  },
  {
   "cell_type": "markdown",
   "metadata": {},
   "source": [
    "We calculate the view weights $\\lambda_1$ and $\\lambda_2$"
   ]
  },
  {
   "cell_type": "code",
   "execution_count": 11,
   "metadata": {},
   "outputs": [
    {
     "data": {
      "text/plain": [
       "matrix([[ 0.00902007],\n",
       "        [-0.00517394]])"
      ]
     },
     "execution_count": 11,
     "metadata": {},
     "output_type": "execute_result"
    }
   ],
   "source": [
    "(np.dot(P.T,np.dot(cov_mat,P))+(1+1/tau)*Omega)**(-1)*(q-(1+tau)**(-1)*np.dot(P.T,mu_0))"
   ]
  },
  {
   "cell_type": "code",
   "execution_count": null,
   "metadata": {},
   "outputs": [],
   "source": []
  },
  {
   "cell_type": "code",
   "execution_count": null,
   "metadata": {},
   "outputs": [],
   "source": []
  }
 ],
 "metadata": {
  "kernelspec": {
   "display_name": "Python 3 (ipykernel)",
   "language": "python",
   "name": "python3"
  },
  "language_info": {
   "codemirror_mode": {
    "name": "ipython",
    "version": 3
   },
   "file_extension": ".py",
   "mimetype": "text/x-python",
   "name": "python",
   "nbconvert_exporter": "python",
   "pygments_lexer": "ipython3",
   "version": "3.9.7"
  }
 },
 "nbformat": 4,
 "nbformat_minor": 2
}
