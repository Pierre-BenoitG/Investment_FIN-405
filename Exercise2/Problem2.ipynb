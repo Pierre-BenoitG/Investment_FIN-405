{
 "cells": [
  {
   "cell_type": "markdown",
   "id": "10ed6d76",
   "metadata": {},
   "source": [
    "# Problem Set 2 - Investments"
   ]
  },
  {
   "cell_type": "code",
   "execution_count": 1,
   "id": "d6d15e5d",
   "metadata": {},
   "outputs": [],
   "source": [
    "import numpy as np\n",
    "import matplotlib.pyplot as plt\n",
    "import pandas as pd\n",
    "import wrds\n",
    "import psycopg2\n",
    "from IPython.display import display\n"
   ]
  },
  {
   "cell_type": "code",
   "execution_count": 2,
   "id": "9ac1e4f2",
   "metadata": {},
   "outputs": [
    {
     "name": "stdout",
     "output_type": "stream",
     "text": [
      "Enter your WRDS username [Pierre-Benoit]:grimaux\n",
      "Enter your password:········\n",
      "WRDS recommends setting up a .pgpass file.\n",
      "Create .pgpass file now [y/n]?: y\n",
      "Created .pgpass file successfully.\n",
      "Loading library list...\n",
      "Done\n"
     ]
    }
   ],
   "source": [
    "conn = wrds.Connection()"
   ]
  },
  {
   "cell_type": "markdown",
   "id": "03b7256f",
   "metadata": {},
   "source": [
    "# Exercise 2"
   ]
  },
  {
   "cell_type": "markdown",
   "id": "e5aeb33a",
   "metadata": {},
   "source": [
    "# Question a)"
   ]
  },
  {
   "cell_type": "code",
   "execution_count": 3,
   "id": "ee4569a4",
   "metadata": {},
   "outputs": [],
   "source": [
    "#read the data\n",
    "aapl =conn.raw_sql(\"select date, ret from crsp.dsf where permco=7 and date>='2010-01-01' and date<='2021-12-31'\")\n",
    "pg =conn.raw_sql(\"select date, ret from crsp.dsf where permco=21446 and date>='2010-01-01' and date<='2021-12-31'\")\n",
    "from datetime import datetime\n",
    "aapl['ret']=1+aapl['ret']\n",
    "aapl[\"date\"]=pd.to_datetime(aapl[\"date\"])\n",
    "aapl=aapl.resample('W',on='date').prod()-1 \n",
    "\n",
    "\n",
    "\n",
    "pg['ret']=1+pg['ret']\n",
    "pg[\"date\"]=pd.to_datetime(pg[\"date\"])\n",
    "pg=pg.resample('W',on='date').prod()-1 "
   ]
  },
  {
   "cell_type": "code",
   "execution_count": 4,
   "id": "db1594c6",
   "metadata": {},
   "outputs": [],
   "source": [
    "#we annualise the weekly returns \n",
    "\n",
    "aapl_mean=aapl['ret'].mean()*52\n",
    "aapl_std=aapl['ret'].std()*np.sqrt(52)\n",
    "aapl_var=aapl_std**2\n",
    "\n",
    "pg_mean=pg['ret'].mean()*52\n",
    "pg_std=pg['ret'].std()*np.sqrt(52)\n",
    "pg_var=pg_std**2\n"
   ]
  },
  {
   "cell_type": "code",
   "execution_count": 5,
   "id": "c1a5f593",
   "metadata": {},
   "outputs": [
    {
     "name": "stdout",
     "output_type": "stream",
     "text": [
      "Estimated mean\n"
     ]
    },
    {
     "data": {
      "text/plain": [
       "ret of aapl    0.314888\n",
       "ret of pg      0.124941\n",
       "dtype: float64"
      ]
     },
     "metadata": {},
     "output_type": "display_data"
    },
    {
     "name": "stdout",
     "output_type": "stream",
     "text": [
      "Estimated std\n"
     ]
    },
    {
     "data": {
      "text/plain": [
       "ret of aapl    0.278855\n",
       "ret of pg      0.155484\n",
       "dtype: float64"
      ]
     },
     "metadata": {},
     "output_type": "display_data"
    },
    {
     "name": "stdout",
     "output_type": "stream",
     "text": [
      "Correlation matrix is the following:\n"
     ]
    },
    {
     "data": {
      "text/html": [
       "<div>\n",
       "<style scoped>\n",
       "    .dataframe tbody tr th:only-of-type {\n",
       "        vertical-align: middle;\n",
       "    }\n",
       "\n",
       "    .dataframe tbody tr th {\n",
       "        vertical-align: top;\n",
       "    }\n",
       "\n",
       "    .dataframe thead th {\n",
       "        text-align: right;\n",
       "    }\n",
       "</style>\n",
       "<table border=\"1\" class=\"dataframe\">\n",
       "  <thead>\n",
       "    <tr style=\"text-align: right;\">\n",
       "      <th></th>\n",
       "      <th>ret of aapl</th>\n",
       "      <th>ret of pg</th>\n",
       "    </tr>\n",
       "  </thead>\n",
       "  <tbody>\n",
       "    <tr>\n",
       "      <th>ret of aapl</th>\n",
       "      <td>1.000000</td>\n",
       "      <td>0.315872</td>\n",
       "    </tr>\n",
       "    <tr>\n",
       "      <th>ret of pg</th>\n",
       "      <td>0.315872</td>\n",
       "      <td>1.000000</td>\n",
       "    </tr>\n",
       "  </tbody>\n",
       "</table>\n",
       "</div>"
      ],
      "text/plain": [
       "             ret of aapl  ret of pg\n",
       "ret of aapl     1.000000   0.315872\n",
       "ret of pg       0.315872   1.000000"
      ]
     },
     "execution_count": 5,
     "metadata": {},
     "output_type": "execute_result"
    }
   ],
   "source": [
    "#we add the return of protect and gambler to the data frame to calcultate the correlation between the two stocks\n",
    "\n",
    "stocks = aapl.copy()\n",
    "stocks[\"ret of pg\"] = pg['ret']\n",
    "stocks =stocks.rename(columns ={'ret':\"ret of aapl\"})\n",
    "#we calaculate the correlation\n",
    "print(\"Estimated mean\")\n",
    "display(stocks.mean()*52)\n",
    "print(\"Estimated std\")\n",
    "display(stocks.std()*np.sqrt(52))\n",
    "print(\"Correlation matrix is the following:\")\n",
    "stocks.corr()"
   ]
  },
  {
   "cell_type": "markdown",
   "id": "d707097a",
   "metadata": {},
   "source": [
    "# Question b)"
   ]
  },
  {
   "cell_type": "code",
   "execution_count": 6,
   "id": "d2d52ccb",
   "metadata": {},
   "outputs": [
    {
     "data": {
      "image/png": "[encoded data removed]",
      "text/plain": [
       "<Figure size 1080x540 with 1 Axes>"
      ]
     },
     "metadata": {
      "needs_background": "light"
     },
     "output_type": "display_data"
    }
   ],
   "source": [
    "N=100000\n",
    "\n",
    "weigth_aapl=np.arange(-0.5,1.2,1/N)\n",
    "weigth_pg=1-weigth_aapl\n",
    "return_portfolio_short=aapl_mean*weigth_aapl+pg_mean*weigth_pg\n",
    "volatility_portfolio_short=np.sqrt(\n",
    "    (weigth_aapl**2)*aapl_var\n",
    "    +(weigth_pg**2)*pg_var\n",
    "    +2*pg_std*aapl_std*weigth_aapl*weigth_pg*stocks.corr()['ret of pg'][0] )\n",
    "\n",
    "\n",
    "weigth_aapl=np.arange(0,1,1/N)\n",
    "weigth_pg=1-weigth_aapl\n",
    "return_portfolio=aapl_mean*weigth_aapl+pg_mean*weigth_pg\n",
    "volatility_portfolio=np.sqrt(\n",
    "    (weigth_aapl**2)*aapl_var\n",
    "    +(weigth_pg**2)*pg_var\n",
    "    +2*pg_std*aapl_std*weigth_aapl*weigth_pg*stocks.corr()['ret of pg'][0] )\n",
    "\n",
    "\n",
    "\n",
    "plt.figure(figsize=(15,7.5))\n",
    "plt.plot(volatility_portfolio,return_portfolio,color='blue')\n",
    "plt.plot(volatility_portfolio_short,return_portfolio_short,linestyle= \"--\",color='blue')\n",
    "\n",
    "plt.annotate('AAPL',(aapl_std,aapl_mean),arrowprops=dict(facecolor='red', shrink=0.05))\n",
    "plt.annotate('PG',(pg_std,pg_mean),arrowprops=dict(facecolor='red', shrink=0.05))\n",
    "plt.grid(True)\n",
    "\n"
   ]
  },
  {
   "cell_type": "markdown",
   "id": "94ab1c94",
   "metadata": {},
   "source": [
    "# Question c)"
   ]
  },
  {
   "cell_type": "markdown",
   "id": "85f85dad",
   "metadata": {},
   "source": [
    "We want to minimize the portfolio variance, which means we want to minimize the following form :\n",
    "\n",
    "$\\mathbb{V}(x_1\\cdot R_1 +x_2\\cdot R_2)$\n",
    "\n",
    "Where $x_1$ and $x_2$ are respectively the weights of aapl and protect and gambler with their return associate. Using the property of variance :\n",
    "\n",
    "$\\mathbb{V}(x_1\\cdot R_1 +x_2\\cdot R_2)=x_{1}^{2}\\cdot \\mathbb{V}(R_1)+x_{2}^{2}\\cdot \\mathbb{V}(R_2)+2\\cdot x_1\\cdot x_2 \\cdot \\sigma(R_1)\\sigma(R_2) \\cdot Corr(R_1,R_2)$\n",
    "\n",
    "Using the fact that $x_1+x_2=1$\n",
    "\n",
    "$\\mathbb{V}(x_1\\cdot R_1 +x_2\\cdot R_2)=x_{1}^{2}\\cdot \\mathbb{V}(R_1)+(1-x_{1})^{2}\\cdot \\mathbb{V}(R_2)+2\\cdot x_1\\cdot (1-x_1) \\cdot \\sigma(R_1)\\sigma(R_2) \\cdot Corr(R_1,R_2)$\n",
    "\n",
    "\n"
   ]
  },
  {
   "cell_type": "code",
   "execution_count": 7,
   "id": "38abeb90",
   "metadata": {},
   "outputs": [
    {
     "name": "stdout",
     "output_type": "stream",
     "text": [
      "The global minimum variance portfolio has a mean of 15.165% and standard deviation of 15.067%\n",
      "The weight are for aapl 0.141 and for pg 0.859\n",
      "The sharp ratio is 0.90691\n"
     ]
    }
   ],
   "source": [
    "\n",
    "min_std = volatility_portfolio.min()\n",
    "min_mean = return_portfolio[volatility_portfolio.argmin()]\n",
    "print(\"The global minimum variance portfolio \"\n",
    "      f\"has a mean of {min_mean:.3%} and standard deviation of {min_std:.3%}\")\n",
    "print(f\"The weight are for aapl {weigth_aapl[volatility_portfolio.argmin()]:.3f}\"\n",
    "        f\" and for pg {weigth_pg[volatility_portfolio.argmin()]:.3f}\")\n",
    "print(f\"The sharp ratio is {(min_mean- 0.015)/min_std:.5f}\")"
   ]
  },
  {
   "cell_type": "markdown",
   "id": "7d07c9c4",
   "metadata": {},
   "source": [
    "# Question d)"
   ]
  },
  {
   "cell_type": "code",
   "execution_count": 8,
   "id": "54d1f264",
   "metadata": {},
   "outputs": [
    {
     "data": {
      "text/plain": [
       "<matplotlib.legend.Legend at 0x25264ad0cd0>"
      ]
     },
     "execution_count": 8,
     "metadata": {},
     "output_type": "execute_result"
    },
    {
     "data": {
      "image/png": "[encoded data removed]",
      "text/plain": [
       "<Figure size 1080x540 with 1 Axes>"
      ]
     },
     "metadata": {
      "needs_background": "light"
     },
     "output_type": "display_data"
    }
   ],
   "source": [
    "\n",
    "N=10000\n",
    "\n",
    "weigth_aapl=np.arange(-0.5,1.5,1/N)\n",
    "weigth_pg=1-weigth_aapl\n",
    "return_portfolio_short=aapl_mean*weigth_aapl+pg_mean*weigth_pg\n",
    "volatility_portfolio_short=np.sqrt(\n",
    "    (weigth_aapl**2)*aapl_var\n",
    "    +(weigth_pg**2)*pg_var\n",
    "    +2*pg_std*aapl_std*weigth_aapl*weigth_pg*stocks.corr()['ret of pg'][0] )\n",
    "\n",
    "\n",
    "weigth_aapl=np.arange(0,1,1/N)\n",
    "weigth_pg=1-weigth_aapl\n",
    "return_portfolio=aapl_mean*weigth_aapl+pg_mean*weigth_pg\n",
    "volatility_portfolio=np.sqrt(\n",
    "    (weigth_aapl**2)*aapl_var\n",
    "    +(weigth_pg**2)*pg_var\n",
    "    +2*pg_std*aapl_std*weigth_aapl*weigth_pg*stocks.corr()['ret of pg'][0] )\n",
    "\n",
    "\n",
    "plt.figure(figsize=(15,7.5))\n",
    "plt.plot(volatility_portfolio,return_portfolio,color='blue')\n",
    "plt.plot(volatility_portfolio_short,return_portfolio_short,linestyle= \"--\",color='blue')\n",
    "\n",
    "sharp_ratio = (return_portfolio-0.015)/volatility_portfolio\n",
    "index_max_SR = sharp_ratio.argmax()\n",
    "plt.annotate('AAPL',(aapl_std,aapl_mean),arrowprops=dict(facecolor='red', shrink=0.05))\n",
    "plt.annotate('PG',(pg_std,pg_mean),arrowprops=dict(facecolor='red', shrink=0.05))\n",
    "plt.annotate('Tangent Portfolio' , (volatility_portfolio[index_max_SR], return_portfolio[index_max_SR]) , arrowprops=dict(facecolor='red', shrink=0.05))\n",
    "plt.annotate('Minimum Portfolio' , (volatility_portfolio.min(),return_portfolio[volatility_portfolio.argmin()]) , arrowprops=dict(facecolor='red', shrink=0.05))\n",
    "plt.grid(True)\n",
    "\n",
    "\n",
    "\n",
    "max_sharp_ratio = sharp_ratio.max()\n",
    "\n",
    "\n",
    "x=np.arange(0,0.42, 1/10000)\n",
    "efficient_frontier = x*max_sharp_ratio + 0.015\n",
    "\n",
    "plt.plot(x, efficient_frontier, color='red', label = \"mean-standard efficient frontier\")\n",
    "plt.legend()"
   ]
  },
  {
   "cell_type": "markdown",
   "id": "ccad167b",
   "metadata": {},
   "source": [
    "# Question e)"
   ]
  },
  {
   "cell_type": "code",
   "execution_count": 9,
   "id": "7367a2b4",
   "metadata": {},
   "outputs": [
    {
     "data": {
      "text/html": [
       "<div>\n",
       "<style scoped>\n",
       "    .dataframe tbody tr th:only-of-type {\n",
       "        vertical-align: middle;\n",
       "    }\n",
       "\n",
       "    .dataframe tbody tr th {\n",
       "        vertical-align: top;\n",
       "    }\n",
       "\n",
       "    .dataframe thead th {\n",
       "        text-align: right;\n",
       "    }\n",
       "</style>\n",
       "<table border=\"1\" class=\"dataframe\">\n",
       "  <thead>\n",
       "    <tr style=\"text-align: right;\">\n",
       "      <th></th>\n",
       "      <th>Risk free</th>\n",
       "      <th>Aapl</th>\n",
       "      <th>Pg</th>\n",
       "    </tr>\n",
       "  </thead>\n",
       "  <tbody>\n",
       "    <tr>\n",
       "      <th>Weight</th>\n",
       "      <td>-1.234487e+00</td>\n",
       "      <td>1.260027e+00</td>\n",
       "      <td>9.744599e-01</td>\n",
       "    </tr>\n",
       "    <tr>\n",
       "      <th>Dollar Investment</th>\n",
       "      <td>-1.234487e+07</td>\n",
       "      <td>1.260027e+07</td>\n",
       "      <td>9.744599e+06</td>\n",
       "    </tr>\n",
       "  </tbody>\n",
       "</table>\n",
       "</div>"
      ],
      "text/plain": [
       "                      Risk free          Aapl            Pg\n",
       "Weight            -1.234487e+00  1.260027e+00  9.744599e-01\n",
       "Dollar Investment -1.234487e+07  1.260027e+07  9.744599e+06"
      ]
     },
     "execution_count": 9,
     "metadata": {},
     "output_type": "execute_result"
    }
   ],
   "source": [
    "index_max_SR = sharp_ratio.argmax()\n",
    "weight_aapl_max_SR = weigth_aapl[index_max_SR]\n",
    "weight_pg_max_SR = weigth_pg[index_max_SR]\n",
    "goal_ret = 0.5\n",
    "goal_vol = (goal_ret-0.015)/max_sharp_ratio\n",
    "\n",
    "weight_risky_asset = goal_vol/volatility_portfolio[index_max_SR]\n",
    "weigth_risk_free = 1-weight_risky_asset\n",
    "\n",
    "weigth_aapl_goal = weight_risky_asset*weight_aapl_max_SR\n",
    "weigth_pg_goal = weight_risky_asset*weight_pg_max_SR\n",
    "\n",
    "\n",
    "pd.DataFrame(index = [\"Weight\" , \"Dollar Investment\"] , \n",
    "             data = {\"Risk free\" : [weigth_risk_free , weigth_risk_free*10000000] , \n",
    "                     \"Aapl\" : [weigth_aapl_goal ,weigth_aapl_goal*10000000 ] , \n",
    "                     \"Pg\" : [weigth_pg_goal , weigth_pg_goal*10000000]}  )\n"
   ]
  },
  {
   "cell_type": "markdown",
   "id": "ba3f43a9",
   "metadata": {},
   "source": [
    "The portfolio is made up with the risk-free asset (weigth $x_r$)and the stocks aapl and PG (risky assets of weigths $x_A$ and $x_G$, the weigth of the portfolio without the risky asset is called $x_p$).\n",
    "\n",
    "The variance of the portfolio called $\\mathbb{V}$ is :\n",
    "\n",
    "$$\\mathbb{V}=x_{p}^2\\cdot \\mathbb{V}(P)$$\n",
    "\n",
    "There is no other term as the risk free asset is not correlated with the risky portfolio and has no covariance.\n",
    "\n",
    "Hence the weigth of the risky asset is :\n",
    "$x_p = \\frac{\\mathbb{V}}{\\mathbb{V}(P)}$\n",
    "\n",
    "The weight of the risk free asset is $x_{rf} = 1-x_p$\n",
    "\n",
    "Finally, the proportion of the aapl and pg stock in the efficient portfolio are fixed.\n",
    "\n",
    "\n",
    "Goal variance is the variance associated to the 50\\% return and $\\sigma{(P)}$ the volatility of the best sharp ratio."
   ]
  },
  {
   "cell_type": "markdown",
   "id": "fd49b021",
   "metadata": {},
   "source": [
    "# Question f)"
   ]
  },
  {
   "cell_type": "code",
   "execution_count": 10,
   "id": "5c472800",
   "metadata": {},
   "outputs": [
    {
     "name": "stdout",
     "output_type": "stream",
     "text": [
      "The risk-aversion coefficient is 2.6938\n"
     ]
    }
   ],
   "source": [
    "cov_matrix = 52*stocks.cov().to_numpy()\n",
    "a = (aapl_mean-0.015)/(cov_matrix@ np.array([[weigth_aapl_goal],[weigth_pg_goal]]))[0,0]\n",
    "print(f\"The risk-aversion coefficient is {a:.4f}\")\n"
   ]
  },
  {
   "cell_type": "markdown",
   "id": "85e8b1ba",
   "metadata": {},
   "source": [
    "# Question g)"
   ]
  },
  {
   "cell_type": "code",
   "execution_count": 11,
   "id": "5583a107",
   "metadata": {},
   "outputs": [
    {
     "name": "stdout",
     "output_type": "stream",
     "text": [
      "The sharp ratio of my portfolio is 1.143\n",
      "The volatility of my portfolio is 42.43% in percentage which corresponds to 4243174.95 US dollars\n"
     ]
    }
   ],
   "source": [
    "print(f\"The sharp ratio of my portfolio is {sharp_ratio.max():.3f}\")\n",
    "print(f\"The volatility of my portfolio is {goal_vol:.2%} in percentage which corresponds to {goal_vol*10000000:.2f} US dollars\" )"
   ]
  },
  {
   "cell_type": "code",
   "execution_count": null,
   "id": "f4f64267",
   "metadata": {},
   "outputs": [],
   "source": []
  }
 ],
 "metadata": {
  "kernelspec": {
   "display_name": "Python 3 (ipykernel)",
   "language": "python",
   "name": "python3"
  },
  "language_info": {
   "codemirror_mode": {
    "name": "ipython",
    "version": 3
   },
   "file_extension": ".py",
   "mimetype": "text/x-python",
   "name": "python",
   "nbconvert_exporter": "python",
   "pygments_lexer": "ipython3",
   "version": "3.9.7"
  }
 },
 "nbformat": 4,
 "nbformat_minor": 5
}
