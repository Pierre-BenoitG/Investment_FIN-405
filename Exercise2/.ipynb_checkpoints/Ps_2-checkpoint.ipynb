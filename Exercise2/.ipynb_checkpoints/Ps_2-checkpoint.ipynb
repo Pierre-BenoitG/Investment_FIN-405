{
 "cells": [
  {
   "cell_type": "code",
   "execution_count": 1,
   "metadata": {},
   "outputs": [],
   "source": [
    "import pandas as pd\n",
    "import numpy as np\n",
    "import matplotlib.pyplot as plt\n",
    "import wrds\n",
    "import psycopg2\n",
    "from scipy.stats import norm\n",
    "from IPython.display import display\n"
   ]
  },
  {
   "cell_type": "code",
   "execution_count": 2,
   "metadata": {},
   "outputs": [
    {
     "name": "stdout",
     "output_type": "stream",
     "text": [
      "Enter your WRDS username [Pierre-Benoit]:grimaux\n",
      "Enter your password:········\n",
      "WRDS recommends setting up a .pgpass file.\n",
      "Create .pgpass file now [y/n]?: y\n",
      "Created .pgpass file successfully.\n",
      "Loading library list...\n",
      "Done\n"
     ]
    }
   ],
   "source": [
    "db  = wrds.Connection(wrds = \"grimaux\")"
   ]
  },
  {
   "cell_type": "markdown",
   "metadata": {},
   "source": [
    "# Exercise 1"
   ]
  },
  {
   "cell_type": "code",
   "execution_count": 3,
   "metadata": {},
   "outputs": [],
   "source": [
    "# get data for Apple, General Electrics, \n",
    "# Goldman Sachs, Microsoft, and Procter & Gamble\n",
    "aapl = db.raw_sql(\"\"\"\n",
    "    select date, ret \n",
    "    from crsp.dsf \n",
    "    where permco in (7) \n",
    "    and date>='1999-12-31' \n",
    "    and date<='2021-12-31'\n",
    "        \"\"\")\n",
    "\n",
    "\n",
    "msft = db.raw_sql(\"\"\"\n",
    "    select date, ret \n",
    "    from crsp.dsf \n",
    "    where permco in (8048) \n",
    "    and date>='1999-12-31' \n",
    "    and date<='2021-12-31'\n",
    "        \"\"\")\n",
    "pg = db.raw_sql(\"\"\"\n",
    "    select date, ret \n",
    "    from crsp.dsf \n",
    "    where permco in (21446) \n",
    "    and date>='1999-12-31' \n",
    "    and date<='2021-12-31'\n",
    "        \"\"\")\n",
    "ge = db.raw_sql(\"\"\"\n",
    "    select date, ret \n",
    "    from crsp.dsf \n",
    "    where permco in (20792) \n",
    "    and date>='1999-12-31' \n",
    "    and date<='2021-12-31'\n",
    "        \"\"\")\n",
    "gs = db.raw_sql(\"\"\"\n",
    "    select date, ret \n",
    "    from crsp.dsf \n",
    "    where permco in (35048) \n",
    "    and date>='1999-12-31' \n",
    "    and date<='2021-12-31'\n",
    "        \"\"\")"
   ]
  },
  {
   "cell_type": "code",
   "execution_count": 4,
   "metadata": {},
   "outputs": [],
   "source": [
    "def expected_cond_shortfall(Var_p, mean , std , approx_norm):\n",
    "    return mean - std*std* (approx_norm.pdf(Var_p)/(approx_norm.cdf(Var_p)))"
   ]
  },
  {
   "cell_type": "code",
   "execution_count": 5,
   "metadata": {},
   "outputs": [],
   "source": [
    "# daily_return : pandas series of daily simple return\n",
    "def exo_1( daily_return, bins, isStock=True) :\n",
    "    \n",
    "    #a\n",
    "    print(\"Statistic for daily simple return annualized\")\n",
    "    \n",
    "    #b\n",
    "\n",
    "    n, list_bins, patches = plt.hist(daily_return[\"ret\"], bins = bins, density = True)\n",
    "    \n",
    "    min_plot, max_plot = (-daily_return[\"ret\"].std()*4, daily_return[\"ret\"].std()*4)\n",
    "    x = np.arange(min_plot,max_plot, 0.001)\n",
    "    approx_norm = norm(loc = daily_return[\"ret\"].mean(),\n",
    "                       scale =daily_return[\"ret\"].std())\n",
    "    plt.plot(x,  approx_norm.pdf(x))\n",
    "    \n",
    "    winsorized = daily_return[daily_return['ret'].abs()<0.04]\n",
    "    display(\n",
    "        pd.DataFrame(index = [\"mean\", \"var\"],\n",
    "                 data = { \"data\" : [252*daily_return[\"ret\"].mean(),\n",
    "                                   252*daily_return['ret'].var()],\n",
    "                         \"winsorized data\" : [252*winsorized[\"ret\"].mean(),252*winsorized[\"ret\"].var()]\n",
    "                       }))\n",
    "    approx_win_norm = norm(loc = winsorized[\"ret\"].mean(),\n",
    "                           scale =winsorized[\"ret\"].std())\n",
    "    plt.plot(x,  approx_win_norm.pdf(x))\n",
    "    \n",
    "    plt.axis((min_plot,max_plot,0,n.max()*1.11))\n",
    "    \n",
    "    plt.title(\"empirical density funtcion\")\n",
    "    #c\n",
    "    if isStock:\n",
    "\n",
    "        #value at risk\n",
    "        VaR95_emp = daily_return['ret'].quantile(0.05)\n",
    "        VaR99_emp = daily_return['ret'].quantile(0.01)\n",
    "\n",
    "        VaR95_norm  = approx_norm.ppf(0.05)\n",
    "        VaR99_norm = approx_norm.ppf(0.01)\n",
    "        \n",
    "        print('Value at Risk and Conditional Expected Shortfall are Annualized. However, the plot is not with Annualized data')\n",
    "\n",
    "        stat = pd.DataFrame( index  =  [\"Value at Risk 95%\",\"Conditional Expected Shortfall 95%\",\n",
    "                           'Value at Risk 99%', \"Condiational Expected Shortfall 99%\"],\n",
    "                 data = {\n",
    "                     'Empirical' : [252*VaR95_emp\n",
    "                                         ,252*(daily_return[daily_return['ret']<VaR95_emp]).mean()[0]\n",
    "                                        ,252*VaR99_emp\n",
    "                                        ,252*(daily_return[daily_return['ret']<VaR99_emp]).mean()[0]]\n",
    "                    ,'Normal distribution' : [VaR95_norm*252\n",
    "                                            , 252*expected_cond_shortfall(VaR95_norm, daily_return[\"ret\"].mean() , daily_return[\"ret\"].std() , approx_norm)\n",
    "                                            ,VaR99_norm*252\n",
    "                                            , 252*expected_cond_shortfall(VaR99_norm, daily_return[\"ret\"].mean() , daily_return[\"ret\"].std() , approx_norm)]\n",
    "\n",
    "                         })\n",
    "        display(stat)\n",
    "\n"
   ]
  },
  {
   "cell_type": "markdown",
   "metadata": {},
   "source": [
    "# APPLE"
   ]
  },
  {
   "cell_type": "code",
   "execution_count": 6,
   "metadata": {},
   "outputs": [
    {
     "name": "stdout",
     "output_type": "stream",
     "text": [
      "Statistic for daily simple return annualized\n"
     ]
    },
    {
     "data": {
      "text/html": [
       "<div>\n",
       "<style scoped>\n",
       "    .dataframe tbody tr th:only-of-type {\n",
       "        vertical-align: middle;\n",
       "    }\n",
       "\n",
       "    .dataframe tbody tr th {\n",
       "        vertical-align: top;\n",
       "    }\n",
       "\n",
       "    .dataframe thead th {\n",
       "        text-align: right;\n",
       "    }\n",
       "</style>\n",
       "<table border=\"1\" class=\"dataframe\">\n",
       "  <thead>\n",
       "    <tr style=\"text-align: right;\">\n",
       "      <th></th>\n",
       "      <th>data</th>\n",
       "      <th>winsorized data</th>\n",
       "    </tr>\n",
       "  </thead>\n",
       "  <tbody>\n",
       "    <tr>\n",
       "      <th>mean</th>\n",
       "      <td>0.331792</td>\n",
       "      <td>0.239702</td>\n",
       "    </tr>\n",
       "    <tr>\n",
       "      <th>var</th>\n",
       "      <td>0.160791</td>\n",
       "      <td>0.065036</td>\n",
       "    </tr>\n",
       "  </tbody>\n",
       "</table>\n",
       "</div>"
      ],
      "text/plain": [
       "          data  winsorized data\n",
       "mean  0.331792         0.239702\n",
       "var   0.160791         0.065036"
      ]
     },
     "metadata": {},
     "output_type": "display_data"
    },
    {
     "name": "stdout",
     "output_type": "stream",
     "text": [
      "Value at Risk and Conditional Expected Shortfall are Annualized. However, the plot is not with Annualized data\n"
     ]
    },
    {
     "name": "stderr",
     "output_type": "stream",
     "text": [
      "C:\\Users\\Pierre-Benoit\\AppData\\Local\\Temp\\ipykernel_8688\\1556063120.py:47: FutureWarning: Dropping of nuisance columns in DataFrame reductions (with 'numeric_only=None') is deprecated; in a future version this will raise TypeError.  Select only valid columns before calling the reduction.\n",
      "  ,252*(daily_return[daily_return['ret']<VaR95_emp]).mean()[0]\n",
      "C:\\Users\\Pierre-Benoit\\AppData\\Local\\Temp\\ipykernel_8688\\1556063120.py:49: FutureWarning: Dropping of nuisance columns in DataFrame reductions (with 'numeric_only=None') is deprecated; in a future version this will raise TypeError.  Select only valid columns before calling the reduction.\n",
      "  ,252*(daily_return[daily_return['ret']<VaR99_emp]).mean()[0]]\n"
     ]
    },
    {
     "data": {
      "text/html": [
       "<div>\n",
       "<style scoped>\n",
       "    .dataframe tbody tr th:only-of-type {\n",
       "        vertical-align: middle;\n",
       "    }\n",
       "\n",
       "    .dataframe tbody tr th {\n",
       "        vertical-align: top;\n",
       "    }\n",
       "\n",
       "    .dataframe thead th {\n",
       "        text-align: right;\n",
       "    }\n",
       "</style>\n",
       "<table border=\"1\" class=\"dataframe\">\n",
       "  <thead>\n",
       "    <tr style=\"text-align: right;\">\n",
       "      <th></th>\n",
       "      <th>Empirical</th>\n",
       "      <th>Normal distribution</th>\n",
       "    </tr>\n",
       "  </thead>\n",
       "  <tbody>\n",
       "    <tr>\n",
       "      <th>Value at Risk 95%</th>\n",
       "      <td>-9.278820</td>\n",
       "      <td>-10.138497</td>\n",
       "    </tr>\n",
       "    <tr>\n",
       "      <th>Conditional Expected Shortfall 95%</th>\n",
       "      <td>-14.154751</td>\n",
       "      <td>-12.798372</td>\n",
       "    </tr>\n",
       "    <tr>\n",
       "      <th>Value at Risk 99%</th>\n",
       "      <td>-16.134113</td>\n",
       "      <td>-14.476537</td>\n",
       "    </tr>\n",
       "    <tr>\n",
       "      <th>Condiational Expected Shortfall 99%</th>\n",
       "      <td>-23.546323</td>\n",
       "      <td>-16.633585</td>\n",
       "    </tr>\n",
       "  </tbody>\n",
       "</table>\n",
       "</div>"
      ],
      "text/plain": [
       "                                     Empirical  Normal distribution\n",
       "Value at Risk 95%                    -9.278820           -10.138497\n",
       "Conditional Expected Shortfall 95%  -14.154751           -12.798372\n",
       "Value at Risk 99%                   -16.134113           -14.476537\n",
       "Condiational Expected Shortfall 99% -23.546323           -16.633585"
      ]
     },
     "metadata": {},
     "output_type": "display_data"
    },
    {
     "data": {
      "image/png": "[encoded data removed]",
      "text/plain": [
       "<Figure size 432x288 with 1 Axes>"
      ]
     },
     "metadata": {
      "needs_background": "light"
     },
     "output_type": "display_data"
    }
   ],
   "source": [
    "exo_1(aapl, 200)"
   ]
  },
  {
   "cell_type": "markdown",
   "metadata": {},
   "source": [
    "# Microsoft"
   ]
  },
  {
   "cell_type": "code",
   "execution_count": 7,
   "metadata": {},
   "outputs": [
    {
     "name": "stdout",
     "output_type": "stream",
     "text": [
      "Statistic for daily simple return annualized\n"
     ]
    },
    {
     "data": {
      "text/html": [
       "<div>\n",
       "<style scoped>\n",
       "    .dataframe tbody tr th:only-of-type {\n",
       "        vertical-align: middle;\n",
       "    }\n",
       "\n",
       "    .dataframe tbody tr th {\n",
       "        vertical-align: top;\n",
       "    }\n",
       "\n",
       "    .dataframe thead th {\n",
       "        text-align: right;\n",
       "    }\n",
       "</style>\n",
       "<table border=\"1\" class=\"dataframe\">\n",
       "  <thead>\n",
       "    <tr style=\"text-align: right;\">\n",
       "      <th></th>\n",
       "      <th>data</th>\n",
       "      <th>winsorized data</th>\n",
       "    </tr>\n",
       "  </thead>\n",
       "  <tbody>\n",
       "    <tr>\n",
       "      <th>mean</th>\n",
       "      <td>0.146788</td>\n",
       "      <td>0.126458</td>\n",
       "    </tr>\n",
       "    <tr>\n",
       "      <th>var</th>\n",
       "      <td>0.093223</td>\n",
       "      <td>0.048269</td>\n",
       "    </tr>\n",
       "  </tbody>\n",
       "</table>\n",
       "</div>"
      ],
      "text/plain": [
       "          data  winsorized data\n",
       "mean  0.146788         0.126458\n",
       "var   0.093223         0.048269"
      ]
     },
     "metadata": {},
     "output_type": "display_data"
    },
    {
     "name": "stdout",
     "output_type": "stream",
     "text": [
      "Value at Risk and Conditional Expected Shortfall are Annualized. However, the plot is not with Annualized data\n"
     ]
    },
    {
     "name": "stderr",
     "output_type": "stream",
     "text": [
      "C:\\Users\\Pierre-Benoit\\AppData\\Local\\Temp\\ipykernel_8688\\1556063120.py:47: FutureWarning: Dropping of nuisance columns in DataFrame reductions (with 'numeric_only=None') is deprecated; in a future version this will raise TypeError.  Select only valid columns before calling the reduction.\n",
      "  ,252*(daily_return[daily_return['ret']<VaR95_emp]).mean()[0]\n",
      "C:\\Users\\Pierre-Benoit\\AppData\\Local\\Temp\\ipykernel_8688\\1556063120.py:49: FutureWarning: Dropping of nuisance columns in DataFrame reductions (with 'numeric_only=None') is deprecated; in a future version this will raise TypeError.  Select only valid columns before calling the reduction.\n",
      "  ,252*(daily_return[daily_return['ret']<VaR99_emp]).mean()[0]]\n"
     ]
    },
    {
     "data": {
      "text/html": [
       "<div>\n",
       "<style scoped>\n",
       "    .dataframe tbody tr th:only-of-type {\n",
       "        vertical-align: middle;\n",
       "    }\n",
       "\n",
       "    .dataframe tbody tr th {\n",
       "        vertical-align: top;\n",
       "    }\n",
       "\n",
       "    .dataframe thead th {\n",
       "        text-align: right;\n",
       "    }\n",
       "</style>\n",
       "<table border=\"1\" class=\"dataframe\">\n",
       "  <thead>\n",
       "    <tr style=\"text-align: right;\">\n",
       "      <th></th>\n",
       "      <th>Empirical</th>\n",
       "      <th>Normal distribution</th>\n",
       "    </tr>\n",
       "  </thead>\n",
       "  <tbody>\n",
       "    <tr>\n",
       "      <th>Value at Risk 95%</th>\n",
       "      <td>-7.124278</td>\n",
       "      <td>-7.825624</td>\n",
       "    </tr>\n",
       "    <tr>\n",
       "      <th>Conditional Expected Shortfall 95%</th>\n",
       "      <td>-11.183745</td>\n",
       "      <td>-9.850938</td>\n",
       "    </tr>\n",
       "    <tr>\n",
       "      <th>Value at Risk 99%</th>\n",
       "      <td>-13.671212</td>\n",
       "      <td>-11.128746</td>\n",
       "    </tr>\n",
       "    <tr>\n",
       "      <th>Condiational Expected Shortfall 99%</th>\n",
       "      <td>-19.041607</td>\n",
       "      <td>-12.771192</td>\n",
       "    </tr>\n",
       "  </tbody>\n",
       "</table>\n",
       "</div>"
      ],
      "text/plain": [
       "                                     Empirical  Normal distribution\n",
       "Value at Risk 95%                    -7.124278            -7.825624\n",
       "Conditional Expected Shortfall 95%  -11.183745            -9.850938\n",
       "Value at Risk 99%                   -13.671212           -11.128746\n",
       "Condiational Expected Shortfall 99% -19.041607           -12.771192"
      ]
     },
     "metadata": {},
     "output_type": "display_data"
    },
    {
     "data": {
      "image/png": "[encoded data removed]",
      "text/plain": [
       "<Figure size 432x288 with 1 Axes>"
      ]
     },
     "metadata": {
      "needs_background": "light"
     },
     "output_type": "display_data"
    }
   ],
   "source": [
    "exo_1(msft, 200)"
   ]
  },
  {
   "cell_type": "markdown",
   "metadata": {},
   "source": [
    "# Procter & Gamble "
   ]
  },
  {
   "cell_type": "code",
   "execution_count": 8,
   "metadata": {},
   "outputs": [
    {
     "name": "stdout",
     "output_type": "stream",
     "text": [
      "Statistic for daily simple return annualized\n"
     ]
    },
    {
     "data": {
      "text/html": [
       "<div>\n",
       "<style scoped>\n",
       "    .dataframe tbody tr th:only-of-type {\n",
       "        vertical-align: middle;\n",
       "    }\n",
       "\n",
       "    .dataframe tbody tr th {\n",
       "        vertical-align: top;\n",
       "    }\n",
       "\n",
       "    .dataframe thead th {\n",
       "        text-align: right;\n",
       "    }\n",
       "</style>\n",
       "<table border=\"1\" class=\"dataframe\">\n",
       "  <thead>\n",
       "    <tr style=\"text-align: right;\">\n",
       "      <th></th>\n",
       "      <th>data</th>\n",
       "      <th>winsorized data</th>\n",
       "    </tr>\n",
       "  </thead>\n",
       "  <tbody>\n",
       "    <tr>\n",
       "      <th>mean</th>\n",
       "      <td>0.099884</td>\n",
       "      <td>0.104875</td>\n",
       "    </tr>\n",
       "    <tr>\n",
       "      <th>var</th>\n",
       "      <td>0.045626</td>\n",
       "      <td>0.027304</td>\n",
       "    </tr>\n",
       "  </tbody>\n",
       "</table>\n",
       "</div>"
      ],
      "text/plain": [
       "          data  winsorized data\n",
       "mean  0.099884         0.104875\n",
       "var   0.045626         0.027304"
      ]
     },
     "metadata": {},
     "output_type": "display_data"
    },
    {
     "name": "stdout",
     "output_type": "stream",
     "text": [
      "Value at Risk and Conditional Expected Shortfall are Annualized. However, the plot is not with Annualized data\n"
     ]
    },
    {
     "name": "stderr",
     "output_type": "stream",
     "text": [
      "C:\\Users\\Pierre-Benoit\\AppData\\Local\\Temp\\ipykernel_8688\\1556063120.py:47: FutureWarning: Dropping of nuisance columns in DataFrame reductions (with 'numeric_only=None') is deprecated; in a future version this will raise TypeError.  Select only valid columns before calling the reduction.\n",
      "  ,252*(daily_return[daily_return['ret']<VaR95_emp]).mean()[0]\n",
      "C:\\Users\\Pierre-Benoit\\AppData\\Local\\Temp\\ipykernel_8688\\1556063120.py:49: FutureWarning: Dropping of nuisance columns in DataFrame reductions (with 'numeric_only=None') is deprecated; in a future version this will raise TypeError.  Select only valid columns before calling the reduction.\n",
      "  ,252*(daily_return[daily_return['ret']<VaR99_emp]).mean()[0]]\n"
     ]
    },
    {
     "data": {
      "text/html": [
       "<div>\n",
       "<style scoped>\n",
       "    .dataframe tbody tr th:only-of-type {\n",
       "        vertical-align: middle;\n",
       "    }\n",
       "\n",
       "    .dataframe tbody tr th {\n",
       "        vertical-align: top;\n",
       "    }\n",
       "\n",
       "    .dataframe thead th {\n",
       "        text-align: right;\n",
       "    }\n",
       "</style>\n",
       "<table border=\"1\" class=\"dataframe\">\n",
       "  <thead>\n",
       "    <tr style=\"text-align: right;\">\n",
       "      <th></th>\n",
       "      <th>Empirical</th>\n",
       "      <th>Normal distribution</th>\n",
       "    </tr>\n",
       "  </thead>\n",
       "  <tbody>\n",
       "    <tr>\n",
       "      <th>Value at Risk 95%</th>\n",
       "      <td>-4.410368</td>\n",
       "      <td>-5.477524</td>\n",
       "    </tr>\n",
       "    <tr>\n",
       "      <th>Conditional Expected Shortfall 95%</th>\n",
       "      <td>-7.865528</td>\n",
       "      <td>-6.894410</td>\n",
       "    </tr>\n",
       "    <tr>\n",
       "      <th>Value at Risk 99%</th>\n",
       "      <td>-8.924073</td>\n",
       "      <td>-7.788350</td>\n",
       "    </tr>\n",
       "    <tr>\n",
       "      <th>Condiational Expected Shortfall 99%</th>\n",
       "      <td>-14.556916</td>\n",
       "      <td>-8.937386</td>\n",
       "    </tr>\n",
       "  </tbody>\n",
       "</table>\n",
       "</div>"
      ],
      "text/plain": [
       "                                     Empirical  Normal distribution\n",
       "Value at Risk 95%                    -4.410368            -5.477524\n",
       "Conditional Expected Shortfall 95%   -7.865528            -6.894410\n",
       "Value at Risk 99%                    -8.924073            -7.788350\n",
       "Condiational Expected Shortfall 99% -14.556916            -8.937386"
      ]
     },
     "metadata": {},
     "output_type": "display_data"
    },
    {
     "data": {
      "image/png": "[encoded data removed]",
      "text/plain": [
       "<Figure size 432x288 with 1 Axes>"
      ]
     },
     "metadata": {
      "needs_background": "light"
     },
     "output_type": "display_data"
    }
   ],
   "source": [
    "exo_1(pg, 200)"
   ]
  },
  {
   "cell_type": "markdown",
   "metadata": {},
   "source": [
    "# General Electrics"
   ]
  },
  {
   "cell_type": "code",
   "execution_count": 9,
   "metadata": {},
   "outputs": [
    {
     "name": "stdout",
     "output_type": "stream",
     "text": [
      "Statistic for daily simple return annualized\n"
     ]
    },
    {
     "data": {
      "text/html": [
       "<div>\n",
       "<style scoped>\n",
       "    .dataframe tbody tr th:only-of-type {\n",
       "        vertical-align: middle;\n",
       "    }\n",
       "\n",
       "    .dataframe tbody tr th {\n",
       "        vertical-align: top;\n",
       "    }\n",
       "\n",
       "    .dataframe thead th {\n",
       "        text-align: right;\n",
       "    }\n",
       "</style>\n",
       "<table border=\"1\" class=\"dataframe\">\n",
       "  <thead>\n",
       "    <tr style=\"text-align: right;\">\n",
       "      <th></th>\n",
       "      <th>data</th>\n",
       "      <th>winsorized data</th>\n",
       "    </tr>\n",
       "  </thead>\n",
       "  <tbody>\n",
       "    <tr>\n",
       "      <th>mean</th>\n",
       "      <td>0.017581</td>\n",
       "      <td>-0.016636</td>\n",
       "    </tr>\n",
       "    <tr>\n",
       "      <th>var</th>\n",
       "      <td>0.112574</td>\n",
       "      <td>0.050675</td>\n",
       "    </tr>\n",
       "  </tbody>\n",
       "</table>\n",
       "</div>"
      ],
      "text/plain": [
       "          data  winsorized data\n",
       "mean  0.017581        -0.016636\n",
       "var   0.112574         0.050675"
      ]
     },
     "metadata": {},
     "output_type": "display_data"
    },
    {
     "name": "stdout",
     "output_type": "stream",
     "text": [
      "Value at Risk and Conditional Expected Shortfall are Annualized. However, the plot is not with Annualized data\n"
     ]
    },
    {
     "name": "stderr",
     "output_type": "stream",
     "text": [
      "C:\\Users\\Pierre-Benoit\\AppData\\Local\\Temp\\ipykernel_8688\\1556063120.py:47: FutureWarning: Dropping of nuisance columns in DataFrame reductions (with 'numeric_only=None') is deprecated; in a future version this will raise TypeError.  Select only valid columns before calling the reduction.\n",
      "  ,252*(daily_return[daily_return['ret']<VaR95_emp]).mean()[0]\n",
      "C:\\Users\\Pierre-Benoit\\AppData\\Local\\Temp\\ipykernel_8688\\1556063120.py:49: FutureWarning: Dropping of nuisance columns in DataFrame reductions (with 'numeric_only=None') is deprecated; in a future version this will raise TypeError.  Select only valid columns before calling the reduction.\n",
      "  ,252*(daily_return[daily_return['ret']<VaR99_emp]).mean()[0]]\n"
     ]
    },
    {
     "data": {
      "text/html": [
       "<div>\n",
       "<style scoped>\n",
       "    .dataframe tbody tr th:only-of-type {\n",
       "        vertical-align: middle;\n",
       "    }\n",
       "\n",
       "    .dataframe tbody tr th {\n",
       "        vertical-align: top;\n",
       "    }\n",
       "\n",
       "    .dataframe thead th {\n",
       "        text-align: right;\n",
       "    }\n",
       "</style>\n",
       "<table border=\"1\" class=\"dataframe\">\n",
       "  <thead>\n",
       "    <tr style=\"text-align: right;\">\n",
       "      <th></th>\n",
       "      <th>Empirical</th>\n",
       "      <th>Normal distribution</th>\n",
       "    </tr>\n",
       "  </thead>\n",
       "  <tbody>\n",
       "    <tr>\n",
       "      <th>Value at Risk 95%</th>\n",
       "      <td>-7.894701</td>\n",
       "      <td>-8.743282</td>\n",
       "    </tr>\n",
       "    <tr>\n",
       "      <th>Conditional Expected Shortfall 95%</th>\n",
       "      <td>-12.544830</td>\n",
       "      <td>-10.968895</td>\n",
       "    </tr>\n",
       "    <tr>\n",
       "      <th>Value at Risk 99%</th>\n",
       "      <td>-15.246076</td>\n",
       "      <td>-12.373076</td>\n",
       "    </tr>\n",
       "    <tr>\n",
       "      <th>Condiational Expected Shortfall 99%</th>\n",
       "      <td>-21.008738</td>\n",
       "      <td>-14.177955</td>\n",
       "    </tr>\n",
       "  </tbody>\n",
       "</table>\n",
       "</div>"
      ],
      "text/plain": [
       "                                     Empirical  Normal distribution\n",
       "Value at Risk 95%                    -7.894701            -8.743282\n",
       "Conditional Expected Shortfall 95%  -12.544830           -10.968895\n",
       "Value at Risk 99%                   -15.246076           -12.373076\n",
       "Condiational Expected Shortfall 99% -21.008738           -14.177955"
      ]
     },
     "metadata": {},
     "output_type": "display_data"
    },
    {
     "data": {
      "image/png": "[encoded data removed]",
      "text/plain": [
       "<Figure size 432x288 with 1 Axes>"
      ]
     },
     "metadata": {
      "needs_background": "light"
     },
     "output_type": "display_data"
    }
   ],
   "source": [
    "exo_1(ge, 200)"
   ]
  },
  {
   "cell_type": "markdown",
   "metadata": {},
   "source": [
    "# Goldman Sachs"
   ]
  },
  {
   "cell_type": "code",
   "execution_count": 10,
   "metadata": {},
   "outputs": [
    {
     "name": "stdout",
     "output_type": "stream",
     "text": [
      "Statistic for daily simple return annualized\n"
     ]
    },
    {
     "data": {
      "text/html": [
       "<div>\n",
       "<style scoped>\n",
       "    .dataframe tbody tr th:only-of-type {\n",
       "        vertical-align: middle;\n",
       "    }\n",
       "\n",
       "    .dataframe tbody tr th {\n",
       "        vertical-align: top;\n",
       "    }\n",
       "\n",
       "    .dataframe thead th {\n",
       "        text-align: right;\n",
       "    }\n",
       "</style>\n",
       "<table border=\"1\" class=\"dataframe\">\n",
       "  <thead>\n",
       "    <tr style=\"text-align: right;\">\n",
       "      <th></th>\n",
       "      <th>data</th>\n",
       "      <th>winsorized data</th>\n",
       "    </tr>\n",
       "  </thead>\n",
       "  <tbody>\n",
       "    <tr>\n",
       "      <th>mean</th>\n",
       "      <td>0.144613</td>\n",
       "      <td>0.095305</td>\n",
       "    </tr>\n",
       "    <tr>\n",
       "      <th>var</th>\n",
       "      <td>0.136953</td>\n",
       "      <td>0.058680</td>\n",
       "    </tr>\n",
       "  </tbody>\n",
       "</table>\n",
       "</div>"
      ],
      "text/plain": [
       "          data  winsorized data\n",
       "mean  0.144613         0.095305\n",
       "var   0.136953         0.058680"
      ]
     },
     "metadata": {},
     "output_type": "display_data"
    },
    {
     "name": "stdout",
     "output_type": "stream",
     "text": [
      "Value at Risk and Conditional Expected Shortfall are Annualized. However, the plot is not with Annualized data\n"
     ]
    },
    {
     "name": "stderr",
     "output_type": "stream",
     "text": [
      "C:\\Users\\Pierre-Benoit\\AppData\\Local\\Temp\\ipykernel_8688\\1556063120.py:47: FutureWarning: Dropping of nuisance columns in DataFrame reductions (with 'numeric_only=None') is deprecated; in a future version this will raise TypeError.  Select only valid columns before calling the reduction.\n",
      "  ,252*(daily_return[daily_return['ret']<VaR95_emp]).mean()[0]\n",
      "C:\\Users\\Pierre-Benoit\\AppData\\Local\\Temp\\ipykernel_8688\\1556063120.py:49: FutureWarning: Dropping of nuisance columns in DataFrame reductions (with 'numeric_only=None') is deprecated; in a future version this will raise TypeError.  Select only valid columns before calling the reduction.\n",
      "  ,252*(daily_return[daily_return['ret']<VaR99_emp]).mean()[0]]\n"
     ]
    },
    {
     "data": {
      "text/html": [
       "<div>\n",
       "<style scoped>\n",
       "    .dataframe tbody tr th:only-of-type {\n",
       "        vertical-align: middle;\n",
       "    }\n",
       "\n",
       "    .dataframe tbody tr th {\n",
       "        vertical-align: top;\n",
       "    }\n",
       "\n",
       "    .dataframe thead th {\n",
       "        text-align: right;\n",
       "    }\n",
       "</style>\n",
       "<table border=\"1\" class=\"dataframe\">\n",
       "  <thead>\n",
       "    <tr style=\"text-align: right;\">\n",
       "      <th></th>\n",
       "      <th>Empirical</th>\n",
       "      <th>Normal distribution</th>\n",
       "    </tr>\n",
       "  </thead>\n",
       "  <tbody>\n",
       "    <tr>\n",
       "      <th>Value at Risk 95%</th>\n",
       "      <td>-8.439665</td>\n",
       "      <td>-9.518421</td>\n",
       "    </tr>\n",
       "    <tr>\n",
       "      <th>Conditional Expected Shortfall 95%</th>\n",
       "      <td>-13.110689</td>\n",
       "      <td>-11.973221</td>\n",
       "    </tr>\n",
       "    <tr>\n",
       "      <th>Value at Risk 99%</th>\n",
       "      <td>-15.744604</td>\n",
       "      <td>-13.522000</td>\n",
       "    </tr>\n",
       "    <tr>\n",
       "      <th>Condiational Expected Shortfall 99%</th>\n",
       "      <td>-22.823784</td>\n",
       "      <td>-15.512740</td>\n",
       "    </tr>\n",
       "  </tbody>\n",
       "</table>\n",
       "</div>"
      ],
      "text/plain": [
       "                                     Empirical  Normal distribution\n",
       "Value at Risk 95%                    -8.439665            -9.518421\n",
       "Conditional Expected Shortfall 95%  -13.110689           -11.973221\n",
       "Value at Risk 99%                   -15.744604           -13.522000\n",
       "Condiational Expected Shortfall 99% -22.823784           -15.512740"
      ]
     },
     "metadata": {},
     "output_type": "display_data"
    },
    {
     "data": {
      "image/png": "[encoded data removed]",
      "text/plain": [
       "<Figure size 432x288 with 1 Axes>"
      ]
     },
     "metadata": {
      "needs_background": "light"
     },
     "output_type": "display_data"
    }
   ],
   "source": [
    "exo_1(gs, 200)"
   ]
  },
  {
   "cell_type": "markdown",
   "metadata": {},
   "source": [
    "# d)"
   ]
  },
  {
   "cell_type": "markdown",
   "metadata": {},
   "source": [
    "From our results, we observe that the normal distribution is a first step in the approximation of the daily retunr but it does not seems to work so well because the daily return have a fat tail. However, considering assumption like the winsorized normal distribution, we obtain something that fit better the data. The normal distribution does not approximates well extremal values of the daily return, this is highlighted by the difference between the two Value at risk and their associated expected Shortfall. The difference between these two is bigger when values are more extrem."
   ]
  },
  {
   "cell_type": "markdown",
   "metadata": {},
   "source": [
    "# Bonds"
   ]
  },
  {
   "cell_type": "code",
   "execution_count": 11,
   "metadata": {},
   "outputs": [],
   "source": [
    "bond_2y = db.raw_sql(\"\"\"\n",
    "    select caldt, b2ret\n",
    "    from crsp.mcti\n",
    "    where caldt >= '1999-12-31'\n",
    "    and caldt <= '2021-12-31' \"\"\", date_cols = ['caldt'])\n",
    "bond_2y = bond_2y.rename(\n",
    "    columns ={\"caldt\" : \"date\", \"b2ret\" :\"ret\" })\n",
    "bond_10y  = db.raw_sql(\"\"\"\n",
    "    select caldt, b10ret\n",
    "    from crsp.mcti\n",
    "    where caldt >= '1999-12-31'\n",
    "    and caldt <= '2021-12-31' \"\"\", date_cols = ['caldt'])\n",
    "bond_10y = bond_10y.rename(\n",
    "    columns ={\"caldt\" : \"date\", \"b10ret\" :\"ret\" })"
   ]
  },
  {
   "cell_type": "code",
   "execution_count": 12,
   "metadata": {},
   "outputs": [
    {
     "name": "stdout",
     "output_type": "stream",
     "text": [
      "Statistic for daily simple return annualized\n"
     ]
    },
    {
     "data": {
      "text/html": [
       "<div>\n",
       "<style scoped>\n",
       "    .dataframe tbody tr th:only-of-type {\n",
       "        vertical-align: middle;\n",
       "    }\n",
       "\n",
       "    .dataframe tbody tr th {\n",
       "        vertical-align: top;\n",
       "    }\n",
       "\n",
       "    .dataframe thead th {\n",
       "        text-align: right;\n",
       "    }\n",
       "</style>\n",
       "<table border=\"1\" class=\"dataframe\">\n",
       "  <thead>\n",
       "    <tr style=\"text-align: right;\">\n",
       "      <th></th>\n",
       "      <th>data</th>\n",
       "      <th>winsorized data</th>\n",
       "    </tr>\n",
       "  </thead>\n",
       "  <tbody>\n",
       "    <tr>\n",
       "      <th>mean</th>\n",
       "      <td>0.588502</td>\n",
       "      <td>0.588502</td>\n",
       "    </tr>\n",
       "    <tr>\n",
       "      <th>var</th>\n",
       "      <td>0.005519</td>\n",
       "      <td>0.005519</td>\n",
       "    </tr>\n",
       "  </tbody>\n",
       "</table>\n",
       "</div>"
      ],
      "text/plain": [
       "          data  winsorized data\n",
       "mean  0.588502         0.588502\n",
       "var   0.005519         0.005519"
      ]
     },
     "metadata": {},
     "output_type": "display_data"
    },
    {
     "data": {
      "image/png": "[encoded data removed]",
      "text/plain": [
       "<Figure size 432x288 with 1 Axes>"
      ]
     },
     "metadata": {
      "needs_background": "light"
     },
     "output_type": "display_data"
    }
   ],
   "source": [
    "exo_1(bond_2y, 20, isStock=False)"
   ]
  },
  {
   "cell_type": "code",
   "execution_count": 13,
   "metadata": {},
   "outputs": [
    {
     "name": "stdout",
     "output_type": "stream",
     "text": [
      "Statistic for daily simple return annualized\n"
     ]
    },
    {
     "data": {
      "text/html": [
       "<div>\n",
       "<style scoped>\n",
       "    .dataframe tbody tr th:only-of-type {\n",
       "        vertical-align: middle;\n",
       "    }\n",
       "\n",
       "    .dataframe tbody tr th {\n",
       "        vertical-align: top;\n",
       "    }\n",
       "\n",
       "    .dataframe thead th {\n",
       "        text-align: right;\n",
       "    }\n",
       "</style>\n",
       "<table border=\"1\" class=\"dataframe\">\n",
       "  <thead>\n",
       "    <tr style=\"text-align: right;\">\n",
       "      <th></th>\n",
       "      <th>data</th>\n",
       "      <th>winsorized data</th>\n",
       "    </tr>\n",
       "  </thead>\n",
       "  <tbody>\n",
       "    <tr>\n",
       "      <th>mean</th>\n",
       "      <td>1.080921</td>\n",
       "      <td>0.885097</td>\n",
       "    </tr>\n",
       "    <tr>\n",
       "      <th>var</th>\n",
       "      <td>0.096879</td>\n",
       "      <td>0.068661</td>\n",
       "    </tr>\n",
       "  </tbody>\n",
       "</table>\n",
       "</div>"
      ],
      "text/plain": [
       "          data  winsorized data\n",
       "mean  1.080921         0.885097\n",
       "var   0.096879         0.068661"
      ]
     },
     "metadata": {},
     "output_type": "display_data"
    },
    {
     "data": {
      "image/png": "[encoded data removed]",
      "text/plain": [
       "<Figure size 432x288 with 1 Axes>"
      ]
     },
     "metadata": {
      "needs_background": "light"
     },
     "output_type": "display_data"
    }
   ],
   "source": [
    "exo_1(bond_10y, 20, isStock=False)"
   ]
  },
  {
   "cell_type": "markdown",
   "metadata": {},
   "source": [
    "It is hard to conclude about this part because there is not enough data and the empirical distribution is hard to draw.\n",
    "Noting that, the normal distribution does not seem to fit well the return for bond. For the two yeas bond, the peak is not high enough and the gaussian is too flat. Moreover we can see that there is extremal values that are too high in comparison to the gaussian distribution, it can be explained by the fact that these values are not randomly choose by the central bank.\n"
   ]
  }
 ],
 "metadata": {
  "kernelspec": {
   "display_name": "Python 3 (ipykernel)",
   "language": "python",
   "name": "python3"
  },
  "language_info": {
   "codemirror_mode": {
    "name": "ipython",
    "version": 3
   },
   "file_extension": ".py",
   "mimetype": "text/x-python",
   "name": "python",
   "nbconvert_exporter": "python",
   "pygments_lexer": "ipython3",
   "version": "3.9.7"
  }
 },
 "nbformat": 4,
 "nbformat_minor": 2
}
